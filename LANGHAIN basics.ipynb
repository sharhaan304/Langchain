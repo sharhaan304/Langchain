{
 "cells": [
  {
   "cell_type": "code",
   "execution_count": 1,
   "id": "fb3b9fa2-5383-4f31-8812-36a4ff632602",
   "metadata": {},
   "outputs": [],
   "source": [
    "import openai"
   ]
  },
  {
   "cell_type": "markdown",
   "id": "585a0313-d5d0-4ac5-abe7-f181930b0984",
   "metadata": {},
   "source": [
    "#1. what is OpenAI API?"
   ]
  },
  {
   "cell_type": "code",
   "execution_count": 2,
   "id": "62793879-fea7-4a10-bddf-25ad3f11ec67",
   "metadata": {},
   "outputs": [],
   "source": [
    "mykey = \"sk-WAdKyY1OzdOGHzp7bw0AYBnlXuDVXoguNIc_AAYffpT3BlbkFJKcqq3IGBql5F8BDH88SC7L6cXVHc8pc3AUy7OZLu8Ahjiibrrfher  \""
   ]
  },
  {
   "cell_type": "code",
   "execution_count": 3,
   "id": "c6523e42-b6a3-41f2-beed-8ec747bf1346",
   "metadata": {},
   "outputs": [],
   "source": [
    "openai.api_key=mykey"
   ]
  },
  {
   "cell_type": "code",
   "execution_count": 4,
   "id": "4994ee9b-e9ae-47dc-bf47-cf1ba5673e69",
   "metadata": {},
   "outputs": [],
   "source": [
    "all_models = openai.models.list()"
   ]
  },
  {
   "cell_type": "code",
   "execution_count": 5,
   "id": "5b279025-0ab9-4b55-a6ff-ac77e26f6534",
   "metadata": {},
   "outputs": [
    {
     "data": {
      "text/plain": [
       "[Model(id='gpt-3.5-turbo', created=1677610602, object='model', owned_by='openai'),\n",
       " Model(id='gpt-3.5-turbo-0125', created=1706048358, object='model', owned_by='system'),\n",
       " Model(id='dall-e-2', created=1698798177, object='model', owned_by='system'),\n",
       " Model(id='gpt-4-1106-preview', created=1698957206, object='model', owned_by='system'),\n",
       " Model(id='tts-1-hd-1106', created=1699053533, object='model', owned_by='system'),\n",
       " Model(id='tts-1-hd', created=1699046015, object='model', owned_by='system'),\n",
       " Model(id='dall-e-3', created=1698785189, object='model', owned_by='system'),\n",
       " Model(id='whisper-1', created=1677532384, object='model', owned_by='openai-internal'),\n",
       " Model(id='text-embedding-3-large', created=1705953180, object='model', owned_by='system'),\n",
       " Model(id='text-embedding-ada-002', created=1671217299, object='model', owned_by='openai-internal'),\n",
       " Model(id='gpt-4-turbo', created=1712361441, object='model', owned_by='system'),\n",
       " Model(id='gpt-4o-2024-05-13', created=1715368132, object='model', owned_by='system'),\n",
       " Model(id='gpt-4-0125-preview', created=1706037612, object='model', owned_by='system'),\n",
       " Model(id='gpt-4-turbo-2024-04-09', created=1712601677, object='model', owned_by='system'),\n",
       " Model(id='gpt-4-turbo-preview', created=1706037777, object='model', owned_by='system'),\n",
       " Model(id='tts-1', created=1681940951, object='model', owned_by='openai-internal'),\n",
       " Model(id='tts-1-1106', created=1699053241, object='model', owned_by='system'),\n",
       " Model(id='gpt-3.5-turbo-16k', created=1683758102, object='model', owned_by='openai-internal'),\n",
       " Model(id='gpt-3.5-turbo-1106', created=1698959748, object='model', owned_by='system'),\n",
       " Model(id='gpt-3.5-turbo-instruct-0914', created=1694122472, object='model', owned_by='system'),\n",
       " Model(id='gpt-4o-mini-2024-07-18', created=1721172717, object='model', owned_by='system'),\n",
       " Model(id='gpt-4o-mini', created=1721172741, object='model', owned_by='system'),\n",
       " Model(id='gpt-4', created=1687882411, object='model', owned_by='openai'),\n",
       " Model(id='gpt-4-0613', created=1686588896, object='model', owned_by='openai'),\n",
       " Model(id='gpt-3.5-turbo-instruct', created=1692901427, object='model', owned_by='system'),\n",
       " Model(id='chatgpt-4o-latest', created=1723515131, object='model', owned_by='system'),\n",
       " Model(id='gpt-4o', created=1715367049, object='model', owned_by='system'),\n",
       " Model(id='babbage-002', created=1692634615, object='model', owned_by='system'),\n",
       " Model(id='davinci-002', created=1692634301, object='model', owned_by='system'),\n",
       " Model(id='text-embedding-3-small', created=1705948997, object='model', owned_by='system'),\n",
       " Model(id='gpt-4o-2024-08-06', created=1722814719, object='model', owned_by='system')]"
      ]
     },
     "execution_count": 5,
     "metadata": {},
     "output_type": "execute_result"
    }
   ],
   "source": [
    "list(all_models)"
   ]
  },
  {
   "cell_type": "code",
   "execution_count": 6,
   "id": "ac495f14-55bb-4d91-a083-27e041e25cee",
   "metadata": {},
   "outputs": [
    {
     "data": {
      "text/html": [
       "<div>\n",
       "<style scoped>\n",
       "    .dataframe tbody tr th:only-of-type {\n",
       "        vertical-align: middle;\n",
       "    }\n",
       "\n",
       "    .dataframe tbody tr th {\n",
       "        vertical-align: top;\n",
       "    }\n",
       "\n",
       "    .dataframe thead th {\n",
       "        text-align: right;\n",
       "    }\n",
       "</style>\n",
       "<table border=\"1\" class=\"dataframe\">\n",
       "  <thead>\n",
       "    <tr style=\"text-align: right;\">\n",
       "      <th></th>\n",
       "      <th>id</th>\n",
       "      <th>created</th>\n",
       "      <th>object</th>\n",
       "      <th>owned_by</th>\n",
       "    </tr>\n",
       "  </thead>\n",
       "  <tbody>\n",
       "    <tr>\n",
       "      <th>0</th>\n",
       "      <td>(id, gpt-3.5-turbo)</td>\n",
       "      <td>(created, 1677610602)</td>\n",
       "      <td>(object, model)</td>\n",
       "      <td>(owned_by, openai)</td>\n",
       "    </tr>\n",
       "    <tr>\n",
       "      <th>1</th>\n",
       "      <td>(id, gpt-3.5-turbo-0125)</td>\n",
       "      <td>(created, 1706048358)</td>\n",
       "      <td>(object, model)</td>\n",
       "      <td>(owned_by, system)</td>\n",
       "    </tr>\n",
       "    <tr>\n",
       "      <th>2</th>\n",
       "      <td>(id, dall-e-2)</td>\n",
       "      <td>(created, 1698798177)</td>\n",
       "      <td>(object, model)</td>\n",
       "      <td>(owned_by, system)</td>\n",
       "    </tr>\n",
       "    <tr>\n",
       "      <th>3</th>\n",
       "      <td>(id, gpt-4-1106-preview)</td>\n",
       "      <td>(created, 1698957206)</td>\n",
       "      <td>(object, model)</td>\n",
       "      <td>(owned_by, system)</td>\n",
       "    </tr>\n",
       "    <tr>\n",
       "      <th>4</th>\n",
       "      <td>(id, tts-1-hd-1106)</td>\n",
       "      <td>(created, 1699053533)</td>\n",
       "      <td>(object, model)</td>\n",
       "      <td>(owned_by, system)</td>\n",
       "    </tr>\n",
       "    <tr>\n",
       "      <th>5</th>\n",
       "      <td>(id, tts-1-hd)</td>\n",
       "      <td>(created, 1699046015)</td>\n",
       "      <td>(object, model)</td>\n",
       "      <td>(owned_by, system)</td>\n",
       "    </tr>\n",
       "    <tr>\n",
       "      <th>6</th>\n",
       "      <td>(id, dall-e-3)</td>\n",
       "      <td>(created, 1698785189)</td>\n",
       "      <td>(object, model)</td>\n",
       "      <td>(owned_by, system)</td>\n",
       "    </tr>\n",
       "    <tr>\n",
       "      <th>7</th>\n",
       "      <td>(id, whisper-1)</td>\n",
       "      <td>(created, 1677532384)</td>\n",
       "      <td>(object, model)</td>\n",
       "      <td>(owned_by, openai-internal)</td>\n",
       "    </tr>\n",
       "    <tr>\n",
       "      <th>8</th>\n",
       "      <td>(id, text-embedding-3-large)</td>\n",
       "      <td>(created, 1705953180)</td>\n",
       "      <td>(object, model)</td>\n",
       "      <td>(owned_by, system)</td>\n",
       "    </tr>\n",
       "    <tr>\n",
       "      <th>9</th>\n",
       "      <td>(id, text-embedding-ada-002)</td>\n",
       "      <td>(created, 1671217299)</td>\n",
       "      <td>(object, model)</td>\n",
       "      <td>(owned_by, openai-internal)</td>\n",
       "    </tr>\n",
       "    <tr>\n",
       "      <th>10</th>\n",
       "      <td>(id, gpt-4-turbo)</td>\n",
       "      <td>(created, 1712361441)</td>\n",
       "      <td>(object, model)</td>\n",
       "      <td>(owned_by, system)</td>\n",
       "    </tr>\n",
       "    <tr>\n",
       "      <th>11</th>\n",
       "      <td>(id, gpt-4o-2024-05-13)</td>\n",
       "      <td>(created, 1715368132)</td>\n",
       "      <td>(object, model)</td>\n",
       "      <td>(owned_by, system)</td>\n",
       "    </tr>\n",
       "    <tr>\n",
       "      <th>12</th>\n",
       "      <td>(id, gpt-4-0125-preview)</td>\n",
       "      <td>(created, 1706037612)</td>\n",
       "      <td>(object, model)</td>\n",
       "      <td>(owned_by, system)</td>\n",
       "    </tr>\n",
       "    <tr>\n",
       "      <th>13</th>\n",
       "      <td>(id, gpt-4-turbo-2024-04-09)</td>\n",
       "      <td>(created, 1712601677)</td>\n",
       "      <td>(object, model)</td>\n",
       "      <td>(owned_by, system)</td>\n",
       "    </tr>\n",
       "    <tr>\n",
       "      <th>14</th>\n",
       "      <td>(id, gpt-4-turbo-preview)</td>\n",
       "      <td>(created, 1706037777)</td>\n",
       "      <td>(object, model)</td>\n",
       "      <td>(owned_by, system)</td>\n",
       "    </tr>\n",
       "    <tr>\n",
       "      <th>15</th>\n",
       "      <td>(id, tts-1)</td>\n",
       "      <td>(created, 1681940951)</td>\n",
       "      <td>(object, model)</td>\n",
       "      <td>(owned_by, openai-internal)</td>\n",
       "    </tr>\n",
       "    <tr>\n",
       "      <th>16</th>\n",
       "      <td>(id, tts-1-1106)</td>\n",
       "      <td>(created, 1699053241)</td>\n",
       "      <td>(object, model)</td>\n",
       "      <td>(owned_by, system)</td>\n",
       "    </tr>\n",
       "    <tr>\n",
       "      <th>17</th>\n",
       "      <td>(id, gpt-3.5-turbo-16k)</td>\n",
       "      <td>(created, 1683758102)</td>\n",
       "      <td>(object, model)</td>\n",
       "      <td>(owned_by, openai-internal)</td>\n",
       "    </tr>\n",
       "    <tr>\n",
       "      <th>18</th>\n",
       "      <td>(id, gpt-3.5-turbo-1106)</td>\n",
       "      <td>(created, 1698959748)</td>\n",
       "      <td>(object, model)</td>\n",
       "      <td>(owned_by, system)</td>\n",
       "    </tr>\n",
       "    <tr>\n",
       "      <th>19</th>\n",
       "      <td>(id, gpt-3.5-turbo-instruct-0914)</td>\n",
       "      <td>(created, 1694122472)</td>\n",
       "      <td>(object, model)</td>\n",
       "      <td>(owned_by, system)</td>\n",
       "    </tr>\n",
       "    <tr>\n",
       "      <th>20</th>\n",
       "      <td>(id, gpt-4o-mini-2024-07-18)</td>\n",
       "      <td>(created, 1721172717)</td>\n",
       "      <td>(object, model)</td>\n",
       "      <td>(owned_by, system)</td>\n",
       "    </tr>\n",
       "    <tr>\n",
       "      <th>21</th>\n",
       "      <td>(id, gpt-4o-mini)</td>\n",
       "      <td>(created, 1721172741)</td>\n",
       "      <td>(object, model)</td>\n",
       "      <td>(owned_by, system)</td>\n",
       "    </tr>\n",
       "    <tr>\n",
       "      <th>22</th>\n",
       "      <td>(id, gpt-4)</td>\n",
       "      <td>(created, 1687882411)</td>\n",
       "      <td>(object, model)</td>\n",
       "      <td>(owned_by, openai)</td>\n",
       "    </tr>\n",
       "    <tr>\n",
       "      <th>23</th>\n",
       "      <td>(id, gpt-4-0613)</td>\n",
       "      <td>(created, 1686588896)</td>\n",
       "      <td>(object, model)</td>\n",
       "      <td>(owned_by, openai)</td>\n",
       "    </tr>\n",
       "    <tr>\n",
       "      <th>24</th>\n",
       "      <td>(id, gpt-3.5-turbo-instruct)</td>\n",
       "      <td>(created, 1692901427)</td>\n",
       "      <td>(object, model)</td>\n",
       "      <td>(owned_by, system)</td>\n",
       "    </tr>\n",
       "    <tr>\n",
       "      <th>25</th>\n",
       "      <td>(id, chatgpt-4o-latest)</td>\n",
       "      <td>(created, 1723515131)</td>\n",
       "      <td>(object, model)</td>\n",
       "      <td>(owned_by, system)</td>\n",
       "    </tr>\n",
       "    <tr>\n",
       "      <th>26</th>\n",
       "      <td>(id, gpt-4o)</td>\n",
       "      <td>(created, 1715367049)</td>\n",
       "      <td>(object, model)</td>\n",
       "      <td>(owned_by, system)</td>\n",
       "    </tr>\n",
       "    <tr>\n",
       "      <th>27</th>\n",
       "      <td>(id, babbage-002)</td>\n",
       "      <td>(created, 1692634615)</td>\n",
       "      <td>(object, model)</td>\n",
       "      <td>(owned_by, system)</td>\n",
       "    </tr>\n",
       "    <tr>\n",
       "      <th>28</th>\n",
       "      <td>(id, davinci-002)</td>\n",
       "      <td>(created, 1692634301)</td>\n",
       "      <td>(object, model)</td>\n",
       "      <td>(owned_by, system)</td>\n",
       "    </tr>\n",
       "    <tr>\n",
       "      <th>29</th>\n",
       "      <td>(id, text-embedding-3-small)</td>\n",
       "      <td>(created, 1705948997)</td>\n",
       "      <td>(object, model)</td>\n",
       "      <td>(owned_by, system)</td>\n",
       "    </tr>\n",
       "    <tr>\n",
       "      <th>30</th>\n",
       "      <td>(id, gpt-4o-2024-08-06)</td>\n",
       "      <td>(created, 1722814719)</td>\n",
       "      <td>(object, model)</td>\n",
       "      <td>(owned_by, system)</td>\n",
       "    </tr>\n",
       "  </tbody>\n",
       "</table>\n",
       "</div>"
      ],
      "text/plain": [
       "                                   id                created           object  \\\n",
       "0                 (id, gpt-3.5-turbo)  (created, 1677610602)  (object, model)   \n",
       "1            (id, gpt-3.5-turbo-0125)  (created, 1706048358)  (object, model)   \n",
       "2                      (id, dall-e-2)  (created, 1698798177)  (object, model)   \n",
       "3            (id, gpt-4-1106-preview)  (created, 1698957206)  (object, model)   \n",
       "4                 (id, tts-1-hd-1106)  (created, 1699053533)  (object, model)   \n",
       "5                      (id, tts-1-hd)  (created, 1699046015)  (object, model)   \n",
       "6                      (id, dall-e-3)  (created, 1698785189)  (object, model)   \n",
       "7                     (id, whisper-1)  (created, 1677532384)  (object, model)   \n",
       "8        (id, text-embedding-3-large)  (created, 1705953180)  (object, model)   \n",
       "9        (id, text-embedding-ada-002)  (created, 1671217299)  (object, model)   \n",
       "10                  (id, gpt-4-turbo)  (created, 1712361441)  (object, model)   \n",
       "11            (id, gpt-4o-2024-05-13)  (created, 1715368132)  (object, model)   \n",
       "12           (id, gpt-4-0125-preview)  (created, 1706037612)  (object, model)   \n",
       "13       (id, gpt-4-turbo-2024-04-09)  (created, 1712601677)  (object, model)   \n",
       "14          (id, gpt-4-turbo-preview)  (created, 1706037777)  (object, model)   \n",
       "15                        (id, tts-1)  (created, 1681940951)  (object, model)   \n",
       "16                   (id, tts-1-1106)  (created, 1699053241)  (object, model)   \n",
       "17            (id, gpt-3.5-turbo-16k)  (created, 1683758102)  (object, model)   \n",
       "18           (id, gpt-3.5-turbo-1106)  (created, 1698959748)  (object, model)   \n",
       "19  (id, gpt-3.5-turbo-instruct-0914)  (created, 1694122472)  (object, model)   \n",
       "20       (id, gpt-4o-mini-2024-07-18)  (created, 1721172717)  (object, model)   \n",
       "21                  (id, gpt-4o-mini)  (created, 1721172741)  (object, model)   \n",
       "22                        (id, gpt-4)  (created, 1687882411)  (object, model)   \n",
       "23                   (id, gpt-4-0613)  (created, 1686588896)  (object, model)   \n",
       "24       (id, gpt-3.5-turbo-instruct)  (created, 1692901427)  (object, model)   \n",
       "25            (id, chatgpt-4o-latest)  (created, 1723515131)  (object, model)   \n",
       "26                       (id, gpt-4o)  (created, 1715367049)  (object, model)   \n",
       "27                  (id, babbage-002)  (created, 1692634615)  (object, model)   \n",
       "28                  (id, davinci-002)  (created, 1692634301)  (object, model)   \n",
       "29       (id, text-embedding-3-small)  (created, 1705948997)  (object, model)   \n",
       "30            (id, gpt-4o-2024-08-06)  (created, 1722814719)  (object, model)   \n",
       "\n",
       "                       owned_by  \n",
       "0            (owned_by, openai)  \n",
       "1            (owned_by, system)  \n",
       "2            (owned_by, system)  \n",
       "3            (owned_by, system)  \n",
       "4            (owned_by, system)  \n",
       "5            (owned_by, system)  \n",
       "6            (owned_by, system)  \n",
       "7   (owned_by, openai-internal)  \n",
       "8            (owned_by, system)  \n",
       "9   (owned_by, openai-internal)  \n",
       "10           (owned_by, system)  \n",
       "11           (owned_by, system)  \n",
       "12           (owned_by, system)  \n",
       "13           (owned_by, system)  \n",
       "14           (owned_by, system)  \n",
       "15  (owned_by, openai-internal)  \n",
       "16           (owned_by, system)  \n",
       "17  (owned_by, openai-internal)  \n",
       "18           (owned_by, system)  \n",
       "19           (owned_by, system)  \n",
       "20           (owned_by, system)  \n",
       "21           (owned_by, system)  \n",
       "22           (owned_by, openai)  \n",
       "23           (owned_by, openai)  \n",
       "24           (owned_by, system)  \n",
       "25           (owned_by, system)  \n",
       "26           (owned_by, system)  \n",
       "27           (owned_by, system)  \n",
       "28           (owned_by, system)  \n",
       "29           (owned_by, system)  \n",
       "30           (owned_by, system)  "
      ]
     },
     "execution_count": 6,
     "metadata": {},
     "output_type": "execute_result"
    }
   ],
   "source": [
    "import pandas as pd\n",
    "pd.DataFrame(list(all_models),columns=[\"id\",\"created\",\"object\",\"owned_by\"])"
   ]
  },
  {
   "cell_type": "code",
   "execution_count": 7,
   "id": "34488d7c-b1ee-4534-82e2-4c2bfd3c64f9",
   "metadata": {},
   "outputs": [],
   "source": [
    "import langchain"
   ]
  },
  {
   "cell_type": "code",
   "execution_count": 8,
   "id": "f9cf522c-8349-4981-97dc-25a701fe56f8",
   "metadata": {},
   "outputs": [],
   "source": [
    "student_description = \"sunny savita is a student of computer science at IIT delhi. He is an indian and has a 8.5 GPA. Sunny is known for his programming skills and is an active member of the college's AI Club. He hopes to pursue a career in artificial intelligence after graduating.\""
   ]
  },
  {
   "cell_type": "code",
   "execution_count": 9,
   "id": "36368034-3f66-4a15-a0bc-55a6b815bb41",
   "metadata": {},
   "outputs": [
    {
     "data": {
      "text/plain": [
       "\"sunny savita is a student of computer science at IIT delhi. He is an indian and has a 8.5 GPA. Sunny is known for his programming skills and is an active member of the college's AI Club. He hopes to pursue a career in artificial intelligence after graduating.\""
      ]
     },
     "execution_count": 9,
     "metadata": {},
     "output_type": "execute_result"
    }
   ],
   "source": [
    "student_description"
   ]
  },
  {
   "cell_type": "code",
   "execution_count": 10,
   "id": "ca4282cd-d661-4759-a5e0-8a05fed282c6",
   "metadata": {},
   "outputs": [],
   "source": [
    "# A simple prompt to extract information from \"student_description\" in a JSON format.\n",
    "prompt = f'''\n",
    "Please extract the following information from the given text and return it as a JSON object:\n",
    "\n",
    "name\n",
    "college\n",
    "grades\n",
    "club\n",
    "\n",
    "This is the body of text to extract the information from:\n",
    "{student_description}\n",
    "'''"
   ]
  },
  {
   "cell_type": "code",
   "execution_count": 11,
   "id": "39f840d3-7ca4-4449-8350-a02866af73a7",
   "metadata": {},
   "outputs": [
    {
     "data": {
      "text/plain": [
       "\"\\nPlease extract the following information from the given text and return it as a JSON object:\\n\\nname\\ncollege\\ngrades\\nclub\\n\\nThis is the body of text to extract the information from:\\nsunny savita is a student of computer science at IIT delhi. He is an indian and has a 8.5 GPA. Sunny is known for his programming skills and is an active member of the college's AI Club. He hopes to pursue a career in artificial intelligence after graduating.\\n\""
      ]
     },
     "execution_count": 11,
     "metadata": {},
     "output_type": "execute_result"
    }
   ],
   "source": [
    "prompt"
   ]
  },
  {
   "cell_type": "code",
   "execution_count": 12,
   "id": "d80e7573-76f0-42ce-8ec9-037ed199d94e",
   "metadata": {},
   "outputs": [],
   "source": [
    "from openai import OpenAI\n",
    "client=OpenAI(api_key=mykey)"
   ]
  },
  {
   "cell_type": "code",
   "execution_count": 13,
   "id": "a307adc4-cd64-485e-a736-ca2bdacc2ebc",
   "metadata": {},
   "outputs": [
    {
     "data": {
      "text/plain": [
       "<openai.OpenAI at 0x1d86af28c10>"
      ]
     },
     "execution_count": 13,
     "metadata": {},
     "output_type": "execute_result"
    }
   ],
   "source": [
    "client"
   ]
  },
  {
   "cell_type": "code",
   "execution_count": 14,
   "id": "a0a3d5d4-ef4f-4943-b90d-12425d0c4706",
   "metadata": {},
   "outputs": [],
   "source": [
    "response = client.chat.completions.create(\n",
    "    model=\"gpt-4-turbo\",\n",
    "    messages=[\n",
    "        {\n",
    "            \"role\": \"user\",\n",
    "            \"content\": prompt\n",
    "        }\n",
    "    ]\n",
    ")"
   ]
  },
  {
   "cell_type": "code",
   "execution_count": 15,
   "id": "0add56bb-3209-4206-b275-1b33319fbe59",
   "metadata": {},
   "outputs": [
    {
     "data": {
      "text/plain": [
       "ChatCompletion(id='chatcmpl-A9Qlxm1PhbT9VOJmyDbqBIsFNJLOJ', choices=[Choice(finish_reason='stop', index=0, logprobs=None, message=ChatCompletionMessage(content='```json\\n{\\n  \"name\": \"Sunny Savita\",\\n  \"college\": \"IIT Delhi\",\\n  \"grades\": \"8.5 GPA\",\\n  \"club\": \"AI Club\"\\n}\\n```', refusal=None, role='assistant', function_call=None, tool_calls=None))], created=1726811229, model='gpt-4-turbo-2024-04-09', object='chat.completion', service_tier=None, system_fingerprint='fp_22b855c4b7', usage=CompletionUsage(completion_tokens=43, prompt_tokens=105, total_tokens=148, completion_tokens_details={'reasoning_tokens': 0}))"
      ]
     },
     "execution_count": 15,
     "metadata": {},
     "output_type": "execute_result"
    }
   ],
   "source": [
    "response"
   ]
  },
  {
   "cell_type": "code",
   "execution_count": 16,
   "id": "ea8c990f-7307-4c80-a0ff-fe7e2ef141ee",
   "metadata": {},
   "outputs": [],
   "source": [
    "output=response.choices[0].message.content"
   ]
  },
  {
   "cell_type": "code",
   "execution_count": 17,
   "id": "f10a346e-ae6d-4f83-8165-7ccd4e3475ae",
   "metadata": {},
   "outputs": [
    {
     "data": {
      "text/plain": [
       "'```json\\n{\\n  \"name\": \"Sunny Savita\",\\n  \"college\": \"IIT Delhi\",\\n  \"grades\": \"8.5 GPA\",\\n  \"club\": \"AI Club\"\\n}\\n```'"
      ]
     },
     "execution_count": 17,
     "metadata": {},
     "output_type": "execute_result"
    }
   ],
   "source": [
    "output"
   ]
  },
  {
   "cell_type": "code",
   "execution_count": 18,
   "id": "d4c26d44-241e-42ca-a8df-c1c4972df3ff",
   "metadata": {},
   "outputs": [
    {
     "ename": "JSONDecodeError",
     "evalue": "Expecting value: line 1 column 1 (char 0)",
     "output_type": "error",
     "traceback": [
      "\u001b[1;31m---------------------------------------------------------------------------\u001b[0m",
      "\u001b[1;31mJSONDecodeError\u001b[0m                           Traceback (most recent call last)",
      "Cell \u001b[1;32mIn[18], line 2\u001b[0m\n\u001b[0;32m      1\u001b[0m \u001b[38;5;28;01mimport\u001b[39;00m \u001b[38;5;21;01mjson\u001b[39;00m\n\u001b[1;32m----> 2\u001b[0m \u001b[43mjson\u001b[49m\u001b[38;5;241;43m.\u001b[39;49m\u001b[43mloads\u001b[49m\u001b[43m(\u001b[49m\u001b[43moutput\u001b[49m\u001b[43m)\u001b[49m\n",
      "File \u001b[1;32m~\\anaconda3\\envs\\testingopenai\\lib\\json\\__init__.py:357\u001b[0m, in \u001b[0;36mloads\u001b[1;34m(s, cls, object_hook, parse_float, parse_int, parse_constant, object_pairs_hook, **kw)\u001b[0m\n\u001b[0;32m    352\u001b[0m     \u001b[38;5;28;01mdel\u001b[39;00m kw[\u001b[38;5;124m'\u001b[39m\u001b[38;5;124mencoding\u001b[39m\u001b[38;5;124m'\u001b[39m]\n\u001b[0;32m    354\u001b[0m \u001b[38;5;28;01mif\u001b[39;00m (\u001b[38;5;28mcls\u001b[39m \u001b[38;5;129;01mis\u001b[39;00m \u001b[38;5;28;01mNone\u001b[39;00m \u001b[38;5;129;01mand\u001b[39;00m object_hook \u001b[38;5;129;01mis\u001b[39;00m \u001b[38;5;28;01mNone\u001b[39;00m \u001b[38;5;129;01mand\u001b[39;00m\n\u001b[0;32m    355\u001b[0m         parse_int \u001b[38;5;129;01mis\u001b[39;00m \u001b[38;5;28;01mNone\u001b[39;00m \u001b[38;5;129;01mand\u001b[39;00m parse_float \u001b[38;5;129;01mis\u001b[39;00m \u001b[38;5;28;01mNone\u001b[39;00m \u001b[38;5;129;01mand\u001b[39;00m\n\u001b[0;32m    356\u001b[0m         parse_constant \u001b[38;5;129;01mis\u001b[39;00m \u001b[38;5;28;01mNone\u001b[39;00m \u001b[38;5;129;01mand\u001b[39;00m object_pairs_hook \u001b[38;5;129;01mis\u001b[39;00m \u001b[38;5;28;01mNone\u001b[39;00m \u001b[38;5;129;01mand\u001b[39;00m \u001b[38;5;129;01mnot\u001b[39;00m kw):\n\u001b[1;32m--> 357\u001b[0m     \u001b[38;5;28;01mreturn\u001b[39;00m \u001b[43m_default_decoder\u001b[49m\u001b[38;5;241;43m.\u001b[39;49m\u001b[43mdecode\u001b[49m\u001b[43m(\u001b[49m\u001b[43ms\u001b[49m\u001b[43m)\u001b[49m\n\u001b[0;32m    358\u001b[0m \u001b[38;5;28;01mif\u001b[39;00m \u001b[38;5;28mcls\u001b[39m \u001b[38;5;129;01mis\u001b[39;00m \u001b[38;5;28;01mNone\u001b[39;00m:\n\u001b[0;32m    359\u001b[0m     \u001b[38;5;28mcls\u001b[39m \u001b[38;5;241m=\u001b[39m JSONDecoder\n",
      "File \u001b[1;32m~\\anaconda3\\envs\\testingopenai\\lib\\json\\decoder.py:337\u001b[0m, in \u001b[0;36mJSONDecoder.decode\u001b[1;34m(self, s, _w)\u001b[0m\n\u001b[0;32m    332\u001b[0m \u001b[38;5;28;01mdef\u001b[39;00m \u001b[38;5;21mdecode\u001b[39m(\u001b[38;5;28mself\u001b[39m, s, _w\u001b[38;5;241m=\u001b[39mWHITESPACE\u001b[38;5;241m.\u001b[39mmatch):\n\u001b[0;32m    333\u001b[0m \u001b[38;5;250m    \u001b[39m\u001b[38;5;124;03m\"\"\"Return the Python representation of ``s`` (a ``str`` instance\u001b[39;00m\n\u001b[0;32m    334\u001b[0m \u001b[38;5;124;03m    containing a JSON document).\u001b[39;00m\n\u001b[0;32m    335\u001b[0m \n\u001b[0;32m    336\u001b[0m \u001b[38;5;124;03m    \"\"\"\u001b[39;00m\n\u001b[1;32m--> 337\u001b[0m     obj, end \u001b[38;5;241m=\u001b[39m \u001b[38;5;28;43mself\u001b[39;49m\u001b[38;5;241;43m.\u001b[39;49m\u001b[43mraw_decode\u001b[49m\u001b[43m(\u001b[49m\u001b[43ms\u001b[49m\u001b[43m,\u001b[49m\u001b[43m \u001b[49m\u001b[43midx\u001b[49m\u001b[38;5;241;43m=\u001b[39;49m\u001b[43m_w\u001b[49m\u001b[43m(\u001b[49m\u001b[43ms\u001b[49m\u001b[43m,\u001b[49m\u001b[43m \u001b[49m\u001b[38;5;241;43m0\u001b[39;49m\u001b[43m)\u001b[49m\u001b[38;5;241;43m.\u001b[39;49m\u001b[43mend\u001b[49m\u001b[43m(\u001b[49m\u001b[43m)\u001b[49m\u001b[43m)\u001b[49m\n\u001b[0;32m    338\u001b[0m     end \u001b[38;5;241m=\u001b[39m _w(s, end)\u001b[38;5;241m.\u001b[39mend()\n\u001b[0;32m    339\u001b[0m     \u001b[38;5;28;01mif\u001b[39;00m end \u001b[38;5;241m!=\u001b[39m \u001b[38;5;28mlen\u001b[39m(s):\n",
      "File \u001b[1;32m~\\anaconda3\\envs\\testingopenai\\lib\\json\\decoder.py:355\u001b[0m, in \u001b[0;36mJSONDecoder.raw_decode\u001b[1;34m(self, s, idx)\u001b[0m\n\u001b[0;32m    353\u001b[0m     obj, end \u001b[38;5;241m=\u001b[39m \u001b[38;5;28mself\u001b[39m\u001b[38;5;241m.\u001b[39mscan_once(s, idx)\n\u001b[0;32m    354\u001b[0m \u001b[38;5;28;01mexcept\u001b[39;00m \u001b[38;5;167;01mStopIteration\u001b[39;00m \u001b[38;5;28;01mas\u001b[39;00m err:\n\u001b[1;32m--> 355\u001b[0m     \u001b[38;5;28;01mraise\u001b[39;00m JSONDecodeError(\u001b[38;5;124m\"\u001b[39m\u001b[38;5;124mExpecting value\u001b[39m\u001b[38;5;124m\"\u001b[39m, s, err\u001b[38;5;241m.\u001b[39mvalue) \u001b[38;5;28;01mfrom\u001b[39;00m \u001b[38;5;28;01mNone\u001b[39;00m\n\u001b[0;32m    356\u001b[0m \u001b[38;5;28;01mreturn\u001b[39;00m obj, end\n",
      "\u001b[1;31mJSONDecodeError\u001b[0m: Expecting value: line 1 column 1 (char 0)"
     ]
    }
   ],
   "source": [
    "import json\n",
    "json.loads(output)"
   ]
  },
  {
   "cell_type": "code",
   "execution_count": null,
   "id": "98702cb1-1af3-4c5c-9316-56d984e61e0c",
   "metadata": {},
   "outputs": [],
   "source": [
    "student_custom_function = [\n",
    "    {\n",
    "        'name': 'extract_student_info',\n",
    "        'description': 'Get the student information from the body of the input text',\n",
    "        'parameters': {\n",
    "            'type': 'object',\n",
    "            'properties': {\n",
    "                'name': {\n",
    "                    'type': 'string',\n",
    "                    'description': 'Name of the person'\n",
    "                },\n",
    "                'college': {\n",
    "                    'type': 'string',\n",
    "                    'description': 'The college name.'\n",
    "                },\n",
    "                'grades': {\n",
    "                    'type': 'integer',\n",
    "                    'description': 'CGPA of the student.'\n",
    "                },\n",
    "                'club': {\n",
    "                    'type': 'string',\n",
    "                    'description': 'college club for extracurricular activities. '\n",
    "                }\n",
    "                \n",
    "            }\n",
    "        }\n",
    "    }\n",
    "]"
   ]
  },
  {
   "cell_type": "code",
   "execution_count": 19,
   "id": "472e3e46-c4ae-44f4-8d78-fc13469e002c",
   "metadata": {},
   "outputs": [
    {
     "ename": "NameError",
     "evalue": "name 'student_custom_function' is not defined",
     "output_type": "error",
     "traceback": [
      "\u001b[1;31m---------------------------------------------------------------------------\u001b[0m",
      "\u001b[1;31mNameError\u001b[0m                                 Traceback (most recent call last)",
      "Cell \u001b[1;32mIn[19], line 5\u001b[0m\n\u001b[0;32m      1\u001b[0m \u001b[38;5;28;01mimport\u001b[39;00m \u001b[38;5;21;01mjson\u001b[39;00m\n\u001b[0;32m      2\u001b[0m response2 \u001b[38;5;241m=\u001b[39m client\u001b[38;5;241m.\u001b[39mchat\u001b[38;5;241m.\u001b[39mcompletions\u001b[38;5;241m.\u001b[39mcreate(\n\u001b[0;32m      3\u001b[0m     model\u001b[38;5;241m=\u001b[39m\u001b[38;5;124m\"\u001b[39m\u001b[38;5;124mgpt-4-turbo\u001b[39m\u001b[38;5;124m\"\u001b[39m,\n\u001b[0;32m      4\u001b[0m     messages\u001b[38;5;241m=\u001b[39m[{\u001b[38;5;124m\"\u001b[39m\u001b[38;5;124mrole\u001b[39m\u001b[38;5;124m\"\u001b[39m: \u001b[38;5;124m\"\u001b[39m\u001b[38;5;124muser\u001b[39m\u001b[38;5;124m\"\u001b[39m, \u001b[38;5;124m\"\u001b[39m\u001b[38;5;124mcontent\u001b[39m\u001b[38;5;124m\"\u001b[39m: prompt}],\n\u001b[1;32m----> 5\u001b[0m     functions\u001b[38;5;241m=\u001b[39m\u001b[43mstudent_custom_function\u001b[49m\n\u001b[0;32m      6\u001b[0m )\n",
      "\u001b[1;31mNameError\u001b[0m: name 'student_custom_function' is not defined"
     ]
    }
   ],
   "source": [
    "import json\n",
    "response2 = client.chat.completions.create(\n",
    "    model=\"gpt-4-turbo\",\n",
    "    messages=[{\"role\": \"user\", \"content\": prompt}],\n",
    "    functions=student_custom_function\n",
    ")"
   ]
  },
  {
   "cell_type": "code",
   "execution_count": 20,
   "id": "cd88dc81-f2b3-45af-ada1-35b17ff17b15",
   "metadata": {},
   "outputs": [
    {
     "ename": "NameError",
     "evalue": "name 'response2' is not defined",
     "output_type": "error",
     "traceback": [
      "\u001b[1;31m---------------------------------------------------------------------------\u001b[0m",
      "\u001b[1;31mNameError\u001b[0m                                 Traceback (most recent call last)",
      "Cell \u001b[1;32mIn[20], line 1\u001b[0m\n\u001b[1;32m----> 1\u001b[0m \u001b[43mresponse2\u001b[49m\n",
      "\u001b[1;31mNameError\u001b[0m: name 'response2' is not defined"
     ]
    }
   ],
   "source": [
    "response2"
   ]
  },
  {
   "cell_type": "code",
   "execution_count": 21,
   "id": "4487e757-06a9-4a0d-ba2a-a821ef460f5f",
   "metadata": {},
   "outputs": [
    {
     "ename": "NameError",
     "evalue": "name 'response2' is not defined",
     "output_type": "error",
     "traceback": [
      "\u001b[1;31m---------------------------------------------------------------------------\u001b[0m",
      "\u001b[1;31mNameError\u001b[0m                                 Traceback (most recent call last)",
      "Cell \u001b[1;32mIn[21], line 2\u001b[0m\n\u001b[0;32m      1\u001b[0m \u001b[38;5;28;01mimport\u001b[39;00m \u001b[38;5;21;01mjson\u001b[39;00m\n\u001b[1;32m----> 2\u001b[0m \u001b[43mresponse2\u001b[49m\u001b[38;5;241m.\u001b[39mchoices[\u001b[38;5;241m0\u001b[39m]\u001b[38;5;241m.\u001b[39mmessage\n",
      "\u001b[1;31mNameError\u001b[0m: name 'response2' is not defined"
     ]
    }
   ],
   "source": [
    "import json\n",
    "response2.choices[0].message"
   ]
  },
  {
   "cell_type": "code",
   "execution_count": 22,
   "id": "c1044568-2cf4-40d4-93d3-6faa0a1e2893",
   "metadata": {},
   "outputs": [
    {
     "ename": "NameError",
     "evalue": "name 'response2' is not defined",
     "output_type": "error",
     "traceback": [
      "\u001b[1;31m---------------------------------------------------------------------------\u001b[0m",
      "\u001b[1;31mNameError\u001b[0m                                 Traceback (most recent call last)",
      "Cell \u001b[1;32mIn[22], line 2\u001b[0m\n\u001b[0;32m      1\u001b[0m \u001b[38;5;28;01mimport\u001b[39;00m \u001b[38;5;21;01mjson\u001b[39;00m\n\u001b[1;32m----> 2\u001b[0m \u001b[43mresponse2\u001b[49m\u001b[38;5;241m.\u001b[39mchoices[\u001b[38;5;241m0\u001b[39m]\u001b[38;5;241m.\u001b[39mmessage\u001b[38;5;241m.\u001b[39mfunction_call\u001b[38;5;241m.\u001b[39marguments\n",
      "\u001b[1;31mNameError\u001b[0m: name 'response2' is not defined"
     ]
    }
   ],
   "source": [
    "import json\n",
    "response2.choices[0].message.function_call.arguments"
   ]
  },
  {
   "cell_type": "code",
   "execution_count": 23,
   "id": "98cb51b7-6999-44a7-8b0c-3275c3152990",
   "metadata": {},
   "outputs": [
    {
     "ename": "NameError",
     "evalue": "name 'response2' is not defined",
     "output_type": "error",
     "traceback": [
      "\u001b[1;31m---------------------------------------------------------------------------\u001b[0m",
      "\u001b[1;31mNameError\u001b[0m                                 Traceback (most recent call last)",
      "Cell \u001b[1;32mIn[23], line 1\u001b[0m\n\u001b[1;32m----> 1\u001b[0m json\u001b[38;5;241m.\u001b[39mloads(\u001b[43mresponse2\u001b[49m\u001b[38;5;241m.\u001b[39mchoices[\u001b[38;5;241m0\u001b[39m]\u001b[38;5;241m.\u001b[39mmessage\u001b[38;5;241m.\u001b[39mfunction_call\u001b[38;5;241m.\u001b[39marguments)\n",
      "\u001b[1;31mNameError\u001b[0m: name 'response2' is not defined"
     ]
    }
   ],
   "source": [
    "json.loads(response2.choices[0].message.function_call.arguments)"
   ]
  },
  {
   "cell_type": "code",
   "execution_count": 24,
   "id": "d4d9794a-58e3-418d-bf73-cc1d3c615d27",
   "metadata": {},
   "outputs": [
    {
     "data": {
      "text/plain": [
       "\"sunny savita is a student of computer science at IIT delhi. He is an indian and has a 8.5 GPA. Sunny is known for his programming skills and is an active member of the college's AI Club. He hopes to pursue a career in artificial intelligence after graduating.\""
      ]
     },
     "execution_count": 24,
     "metadata": {},
     "output_type": "execute_result"
    }
   ],
   "source": [
    "student_description"
   ]
  },
  {
   "cell_type": "code",
   "execution_count": 25,
   "id": "b1f1a19a-432b-41a7-bb49-03a5e4ba1c22",
   "metadata": {},
   "outputs": [],
   "source": [
    "student_description_two=\"krish naik is a student of computer science at IIT Mumbai. He is an indian and has a 9.5 GPA. krish is known for his programming skills and is an active member of the college's data science Club. He hopes to pursue a career in artificial intelligence after graduating.\"\n"
   ]
  },
  {
   "cell_type": "code",
   "execution_count": 26,
   "id": "d99174d9-08ca-43b1-8041-2d687d728ccf",
   "metadata": {},
   "outputs": [
    {
     "data": {
      "text/plain": [
       "\"krish naik is a student of computer science at IIT Mumbai. He is an indian and has a 9.5 GPA. krish is known for his programming skills and is an active member of the college's data science Club. He hopes to pursue a career in artificial intelligence after graduating.\""
      ]
     },
     "execution_count": 26,
     "metadata": {},
     "output_type": "execute_result"
    }
   ],
   "source": [
    "student_description_two"
   ]
  },
  {
   "cell_type": "code",
   "execution_count": 27,
   "id": "5bacff87-2d23-47de-a018-e2b23c2e6f20",
   "metadata": {},
   "outputs": [],
   "source": [
    "student_description_three=\"sudhanshu kumar is a student of computer science at IIT bengalore. He is an indian and has a 9.2 GPA. krish is known for his programming skills and is an active member of the college's MLops Club. He hopes to pursue a career in artificial intelligence after graduating.\""
   ]
  },
  {
   "cell_type": "code",
   "execution_count": 28,
   "id": "21dab1a7-0a7d-42f8-8c8d-084b28f7db11",
   "metadata": {},
   "outputs": [
    {
     "data": {
      "text/plain": [
       "\"sudhanshu kumar is a student of computer science at IIT bengalore. He is an indian and has a 9.2 GPA. krish is known for his programming skills and is an active member of the college's MLops Club. He hopes to pursue a career in artificial intelligence after graduating.\""
      ]
     },
     "execution_count": 28,
     "metadata": {},
     "output_type": "execute_result"
    }
   ],
   "source": [
    "student_description_three"
   ]
  },
  {
   "cell_type": "code",
   "execution_count": 29,
   "id": "58d1c4f6-1129-431a-8e20-f6349c022259",
   "metadata": {},
   "outputs": [
    {
     "name": "stdout",
     "output_type": "stream",
     "text": [
      "sunny savita is a student of computer science at IIT delhi. He is an indian and has a 8.5 GPA. Sunny is known for his programming skills and is an active member of the college's AI Club. He hopes to pursue a career in artificial intelligence after graduating.\n",
      "krish naik is a student of computer science at IIT Mumbai. He is an indian and has a 9.5 GPA. krish is known for his programming skills and is an active member of the college's data science Club. He hopes to pursue a career in artificial intelligence after graduating.\n",
      "sudhanshu kumar is a student of computer science at IIT bengalore. He is an indian and has a 9.2 GPA. krish is known for his programming skills and is an active member of the college's MLops Club. He hopes to pursue a career in artificial intelligence after graduating.\n"
     ]
    }
   ],
   "source": [
    "student_info = [student_description, student_description_two,student_description_three]\n",
    "for student in student_info:\n",
    "    print(student)"
   ]
  },
  {
   "cell_type": "code",
   "execution_count": 30,
   "id": "5e8ca3c6-d404-401e-8613-4d101845d793",
   "metadata": {},
   "outputs": [
    {
     "ename": "NameError",
     "evalue": "name 'student_custom_function' is not defined",
     "output_type": "error",
     "traceback": [
      "\u001b[1;31m---------------------------------------------------------------------------\u001b[0m",
      "\u001b[1;31mNameError\u001b[0m                                 Traceback (most recent call last)",
      "Cell \u001b[1;32mIn[30], line 7\u001b[0m\n\u001b[0;32m      2\u001b[0m student_info \u001b[38;5;241m=\u001b[39m [student_description, student_description_two,student_description_three]\n\u001b[0;32m      3\u001b[0m \u001b[38;5;28;01mfor\u001b[39;00m student \u001b[38;5;129;01min\u001b[39;00m student_info:\n\u001b[0;32m      4\u001b[0m     response \u001b[38;5;241m=\u001b[39m  client\u001b[38;5;241m.\u001b[39mchat\u001b[38;5;241m.\u001b[39mcompletions\u001b[38;5;241m.\u001b[39mcreate(\n\u001b[0;32m      5\u001b[0m         model \u001b[38;5;241m=\u001b[39m \u001b[38;5;124m'\u001b[39m\u001b[38;5;124mgpt-3.5-turbo\u001b[39m\u001b[38;5;124m'\u001b[39m,\n\u001b[0;32m      6\u001b[0m         messages \u001b[38;5;241m=\u001b[39m [{\u001b[38;5;124m'\u001b[39m\u001b[38;5;124mrole\u001b[39m\u001b[38;5;124m'\u001b[39m: \u001b[38;5;124m'\u001b[39m\u001b[38;5;124muser\u001b[39m\u001b[38;5;124m'\u001b[39m, \u001b[38;5;124m'\u001b[39m\u001b[38;5;124mcontent\u001b[39m\u001b[38;5;124m'\u001b[39m: student}],\n\u001b[1;32m----> 7\u001b[0m         functions \u001b[38;5;241m=\u001b[39m \u001b[43mstudent_custom_function\u001b[49m,\n\u001b[0;32m      8\u001b[0m         function_call \u001b[38;5;241m=\u001b[39m \u001b[38;5;124m'\u001b[39m\u001b[38;5;124mauto\u001b[39m\u001b[38;5;124m'\u001b[39m\n\u001b[0;32m      9\u001b[0m     )\n\u001b[0;32m     11\u001b[0m     response \u001b[38;5;241m=\u001b[39m json\u001b[38;5;241m.\u001b[39mloads(response\u001b[38;5;241m.\u001b[39mchoices[\u001b[38;5;241m0\u001b[39m]\u001b[38;5;241m.\u001b[39mmessage\u001b[38;5;241m.\u001b[39mfunction_call\u001b[38;5;241m.\u001b[39marguments)\n\u001b[0;32m     12\u001b[0m     \u001b[38;5;28mprint\u001b[39m(response)\u001b[38;5;66;03m#import csv\u001b[39;00m\n",
      "\u001b[1;31mNameError\u001b[0m: name 'student_custom_function' is not defined"
     ]
    }
   ],
   "source": [
    "import json\n",
    "student_info = [student_description, student_description_two,student_description_three]\n",
    "for student in student_info:\n",
    "    response =  client.chat.completions.create(\n",
    "        model = 'gpt-3.5-turbo',\n",
    "        messages = [{'role': 'user', 'content': student}],\n",
    "        functions = student_custom_function,\n",
    "        function_call = 'auto'\n",
    "    )\n",
    "\n",
    "    response = json.loads(response.choices[0].message.function_call.arguments)\n",
    "    print(response)#import csv"
   ]
  },
  {
   "cell_type": "code",
   "execution_count": 31,
   "id": "7b9cc9a6-6570-4c46-82e0-61a5eec230e0",
   "metadata": {},
   "outputs": [],
   "source": [
    "function_two=student_custom_function = [\n",
    "    {\n",
    "        'name': 'extract_student_info',\n",
    "        'description': 'Get the student information from the body of the input text',\n",
    "        'parameters': {\n",
    "            'type': 'object',\n",
    "            'properties': {\n",
    "                'name': {\n",
    "                    'type': 'string',\n",
    "                    'description': 'Name of the person'\n",
    "                },\n",
    "                'college': {\n",
    "                    'type': 'string',\n",
    "                    'description': 'The college name.'\n",
    "                },\n",
    "                'grades': {\n",
    "                    'type': 'integer',\n",
    "                    'description': 'CGPA of the student.'\n",
    "                },\n",
    "                'club': {\n",
    "                    'type': 'string',\n",
    "                    'description': 'college club for extracurricular activities. '\n",
    "                }\n",
    "                \n",
    "            }\n",
    "        }\n",
    "    }\n",
    "]"
   ]
  },
  {
   "cell_type": "code",
   "execution_count": 32,
   "id": "b5e90183-dfb6-4aaf-8b90-ace4cb05852f",
   "metadata": {},
   "outputs": [
    {
     "name": "stdout",
     "output_type": "stream",
     "text": [
      "{'name': 'sunny savita', 'college': 'IIT delhi', 'grades': 8.5, 'club': 'AI Club'}\n",
      "{'name': 'krish naik', 'college': 'IIT Mumbai', 'grades': 9.5, 'club': 'data science Club'}\n",
      "{'name': 'Sudhanshu Kumar', 'college': 'IIT Bangalore', 'grades': 9.2, 'club': 'MLops Club'}\n"
     ]
    }
   ],
   "source": [
    "functions = [student_custom_function[0], function_two[0]]\n",
    "student_info = [student_description, student_description_two,student_description_three]\n",
    "for student in student_info:\n",
    "    response =  client.chat.completions.create(\n",
    "        model = 'gpt-3.5-turbo',\n",
    "        messages = [{'role': 'user', 'content': student}],\n",
    "        functions = functions,\n",
    "        function_call = 'auto'\n",
    "    )\n",
    "\n",
    "    response = json.loads(response.choices[0].message.function_call.arguments)\n",
    "    print(response)#import csv"
   ]
  },
  {
   "cell_type": "markdown",
   "id": "1a9a40f3-5a2c-4139-8760-6ab2533eea63",
   "metadata": {},
   "source": [
    "Langchain\n"
   ]
  },
  {
   "cell_type": "code",
   "execution_count": 33,
   "id": "8caa2024-eb31-42b0-8997-9e5510c63c43",
   "metadata": {},
   "outputs": [
    {
     "name": "stdout",
     "output_type": "stream",
     "text": [
      "Requirement already satisfied: langchain-community in c:\\users\\asus\\anaconda3\\envs\\testingopenai\\lib\\site-packages (0.2.17)Note: you may need to restart the kernel to use updated packages.\n",
      "\n",
      "Requirement already satisfied: PyYAML>=5.3 in c:\\users\\asus\\anaconda3\\envs\\testingopenai\\lib\\site-packages (from langchain-community) (6.0.2)\n",
      "Requirement already satisfied: SQLAlchemy<3,>=1.4 in c:\\users\\asus\\anaconda3\\envs\\testingopenai\\lib\\site-packages (from langchain-community) (2.0.34)\n",
      "Requirement already satisfied: aiohttp<4.0.0,>=3.8.3 in c:\\users\\asus\\anaconda3\\envs\\testingopenai\\lib\\site-packages (from langchain-community) (3.10.5)\n",
      "Requirement already satisfied: dataclasses-json<0.7,>=0.5.7 in c:\\users\\asus\\anaconda3\\envs\\testingopenai\\lib\\site-packages (from langchain-community) (0.6.7)\n",
      "Requirement already satisfied: langchain<0.3.0,>=0.2.16 in c:\\users\\asus\\anaconda3\\envs\\testingopenai\\lib\\site-packages (from langchain-community) (0.2.16)\n",
      "Requirement already satisfied: langchain-core<0.3.0,>=0.2.39 in c:\\users\\asus\\anaconda3\\envs\\testingopenai\\lib\\site-packages (from langchain-community) (0.2.40)\n",
      "Requirement already satisfied: langsmith<0.2.0,>=0.1.112 in c:\\users\\asus\\anaconda3\\envs\\testingopenai\\lib\\site-packages (from langchain-community) (0.1.118)\n",
      "Requirement already satisfied: numpy<2,>=1 in c:\\users\\asus\\anaconda3\\envs\\testingopenai\\lib\\site-packages (from langchain-community) (1.24.4)\n",
      "Requirement already satisfied: requests<3,>=2 in c:\\users\\asus\\anaconda3\\envs\\testingopenai\\lib\\site-packages (from langchain-community) (2.32.3)\n",
      "Requirement already satisfied: tenacity!=8.4.0,<9.0.0,>=8.1.0 in c:\\users\\asus\\anaconda3\\envs\\testingopenai\\lib\\site-packages (from langchain-community) (8.5.0)\n",
      "Requirement already satisfied: aiohappyeyeballs>=2.3.0 in c:\\users\\asus\\anaconda3\\envs\\testingopenai\\lib\\site-packages (from aiohttp<4.0.0,>=3.8.3->langchain-community) (2.4.0)\n",
      "Requirement already satisfied: aiosignal>=1.1.2 in c:\\users\\asus\\anaconda3\\envs\\testingopenai\\lib\\site-packages (from aiohttp<4.0.0,>=3.8.3->langchain-community) (1.3.1)\n",
      "Requirement already satisfied: attrs>=17.3.0 in c:\\users\\asus\\anaconda3\\envs\\testingopenai\\lib\\site-packages (from aiohttp<4.0.0,>=3.8.3->langchain-community) (24.2.0)\n",
      "Requirement already satisfied: frozenlist>=1.1.1 in c:\\users\\asus\\anaconda3\\envs\\testingopenai\\lib\\site-packages (from aiohttp<4.0.0,>=3.8.3->langchain-community) (1.4.1)\n",
      "Requirement already satisfied: multidict<7.0,>=4.5 in c:\\users\\asus\\anaconda3\\envs\\testingopenai\\lib\\site-packages (from aiohttp<4.0.0,>=3.8.3->langchain-community) (6.1.0)\n",
      "Requirement already satisfied: yarl<2.0,>=1.0 in c:\\users\\asus\\anaconda3\\envs\\testingopenai\\lib\\site-packages (from aiohttp<4.0.0,>=3.8.3->langchain-community) (1.11.1)\n",
      "Requirement already satisfied: async-timeout<5.0,>=4.0 in c:\\users\\asus\\anaconda3\\envs\\testingopenai\\lib\\site-packages (from aiohttp<4.0.0,>=3.8.3->langchain-community) (4.0.3)\n",
      "Requirement already satisfied: marshmallow<4.0.0,>=3.18.0 in c:\\users\\asus\\anaconda3\\envs\\testingopenai\\lib\\site-packages (from dataclasses-json<0.7,>=0.5.7->langchain-community) (3.22.0)\n",
      "Requirement already satisfied: typing-inspect<1,>=0.4.0 in c:\\users\\asus\\anaconda3\\envs\\testingopenai\\lib\\site-packages (from dataclasses-json<0.7,>=0.5.7->langchain-community) (0.9.0)\n",
      "Requirement already satisfied: langchain-text-splitters<0.3.0,>=0.2.0 in c:\\users\\asus\\anaconda3\\envs\\testingopenai\\lib\\site-packages (from langchain<0.3.0,>=0.2.16->langchain-community) (0.2.4)\n",
      "Requirement already satisfied: pydantic<3,>=1 in c:\\users\\asus\\anaconda3\\envs\\testingopenai\\lib\\site-packages (from langchain<0.3.0,>=0.2.16->langchain-community) (2.9.1)\n",
      "Requirement already satisfied: jsonpatch<2.0,>=1.33 in c:\\users\\asus\\anaconda3\\envs\\testingopenai\\lib\\site-packages (from langchain-core<0.3.0,>=0.2.39->langchain-community) (1.33)\n",
      "Requirement already satisfied: packaging<25,>=23.2 in c:\\users\\asus\\anaconda3\\envs\\testingopenai\\lib\\site-packages (from langchain-core<0.3.0,>=0.2.39->langchain-community) (24.1)\n",
      "Requirement already satisfied: typing-extensions>=4.7 in c:\\users\\asus\\anaconda3\\envs\\testingopenai\\lib\\site-packages (from langchain-core<0.3.0,>=0.2.39->langchain-community) (4.12.2)\n",
      "Requirement already satisfied: httpx<1,>=0.23.0 in c:\\users\\asus\\anaconda3\\envs\\testingopenai\\lib\\site-packages (from langsmith<0.2.0,>=0.1.112->langchain-community) (0.27.2)\n",
      "Requirement already satisfied: orjson<4.0.0,>=3.9.14 in c:\\users\\asus\\anaconda3\\envs\\testingopenai\\lib\\site-packages (from langsmith<0.2.0,>=0.1.112->langchain-community) (3.10.7)\n",
      "Requirement already satisfied: charset-normalizer<4,>=2 in c:\\users\\asus\\anaconda3\\envs\\testingopenai\\lib\\site-packages (from requests<3,>=2->langchain-community) (3.3.2)\n",
      "Requirement already satisfied: idna<4,>=2.5 in c:\\users\\asus\\anaconda3\\envs\\testingopenai\\lib\\site-packages (from requests<3,>=2->langchain-community) (3.8)\n",
      "Requirement already satisfied: urllib3<3,>=1.21.1 in c:\\users\\asus\\anaconda3\\envs\\testingopenai\\lib\\site-packages (from requests<3,>=2->langchain-community) (2.2.2)\n",
      "Requirement already satisfied: certifi>=2017.4.17 in c:\\users\\asus\\anaconda3\\envs\\testingopenai\\lib\\site-packages (from requests<3,>=2->langchain-community) (2024.8.30)\n",
      "Requirement already satisfied: greenlet!=0.4.17 in c:\\users\\asus\\anaconda3\\envs\\testingopenai\\lib\\site-packages (from SQLAlchemy<3,>=1.4->langchain-community) (3.1.0)\n",
      "Requirement already satisfied: anyio in c:\\users\\asus\\anaconda3\\envs\\testingopenai\\lib\\site-packages (from httpx<1,>=0.23.0->langsmith<0.2.0,>=0.1.112->langchain-community) (4.4.0)\n",
      "Requirement already satisfied: httpcore==1.* in c:\\users\\asus\\anaconda3\\envs\\testingopenai\\lib\\site-packages (from httpx<1,>=0.23.0->langsmith<0.2.0,>=0.1.112->langchain-community) (1.0.5)\n",
      "Requirement already satisfied: sniffio in c:\\users\\asus\\anaconda3\\envs\\testingopenai\\lib\\site-packages (from httpx<1,>=0.23.0->langsmith<0.2.0,>=0.1.112->langchain-community) (1.3.1)\n",
      "Requirement already satisfied: h11<0.15,>=0.13 in c:\\users\\asus\\anaconda3\\envs\\testingopenai\\lib\\site-packages (from httpcore==1.*->httpx<1,>=0.23.0->langsmith<0.2.0,>=0.1.112->langchain-community) (0.14.0)\n",
      "Requirement already satisfied: jsonpointer>=1.9 in c:\\users\\asus\\anaconda3\\envs\\testingopenai\\lib\\site-packages (from jsonpatch<2.0,>=1.33->langchain-core<0.3.0,>=0.2.39->langchain-community) (3.0.0)\n",
      "Requirement already satisfied: annotated-types>=0.6.0 in c:\\users\\asus\\anaconda3\\envs\\testingopenai\\lib\\site-packages (from pydantic<3,>=1->langchain<0.3.0,>=0.2.16->langchain-community) (0.7.0)\n",
      "Requirement already satisfied: pydantic-core==2.23.3 in c:\\users\\asus\\anaconda3\\envs\\testingopenai\\lib\\site-packages (from pydantic<3,>=1->langchain<0.3.0,>=0.2.16->langchain-community) (2.23.3)\n",
      "Requirement already satisfied: mypy-extensions>=0.3.0 in c:\\users\\asus\\anaconda3\\envs\\testingopenai\\lib\\site-packages (from typing-inspect<1,>=0.4.0->dataclasses-json<0.7,>=0.5.7->langchain-community) (1.0.0)\n",
      "Requirement already satisfied: exceptiongroup>=1.0.2 in c:\\users\\asus\\anaconda3\\envs\\testingopenai\\lib\\site-packages (from anyio->httpx<1,>=0.23.0->langsmith<0.2.0,>=0.1.112->langchain-community) (1.2.2)\n"
     ]
    }
   ],
   "source": [
    "pip install langchain-community"
   ]
  },
  {
   "cell_type": "code",
   "execution_count": 34,
   "id": "056ff603-9744-4409-ba20-12b0eda49d64",
   "metadata": {},
   "outputs": [],
   "source": [
    "import langchain"
   ]
  },
  {
   "cell_type": "code",
   "execution_count": 35,
   "id": "e191b558-2f68-403c-ba12-0ee4e26c83d6",
   "metadata": {},
   "outputs": [],
   "source": [
    "from langchain.llms import OpenAI"
   ]
  },
  {
   "cell_type": "code",
   "execution_count": 36,
   "id": "9bcce8e6-7312-4281-ba7a-0dd10d0cb925",
   "metadata": {},
   "outputs": [],
   "source": [
    "mykey = \"sk-WAdKyY1OzdOGHzp7bw0AYBnlXuDVXoguNIc_AAYffpT3BlbkFJKcqq3IGBql5F8BDH88SC7L6cXVHc8pc3AUy7OZLu8A\""
   ]
  },
  {
   "cell_type": "code",
   "execution_count": 37,
   "id": "ab42927d-4988-413d-b7d7-8dacaa1a8c12",
   "metadata": {},
   "outputs": [
    {
     "name": "stderr",
     "output_type": "stream",
     "text": [
      "C:\\Users\\Asus\\AppData\\Local\\Temp\\ipykernel_1668\\3386809066.py:1: LangChainDeprecationWarning: The class `OpenAI` was deprecated in LangChain 0.0.10 and will be removed in 1.0. An updated version of the class exists in the langchain-openai package and should be used instead. To use it run `pip install -U langchain-openai` and import as `from langchain_openai import OpenAI`.\n",
      "  client=OpenAI(openai_api_key=mykey)\n"
     ]
    }
   ],
   "source": [
    "client=OpenAI(openai_api_key=mykey)"
   ]
  },
  {
   "cell_type": "code",
   "execution_count": 38,
   "id": "8a487174-2ac2-41ab-a339-8394588a3728",
   "metadata": {},
   "outputs": [
    {
     "name": "stdout",
     "output_type": "stream",
     "text": [
      "Requirement already satisfied: langchain-openai in c:\\users\\asus\\anaconda3\\envs\\testingopenai\\lib\\site-packages (0.1.25)\n",
      "Requirement already satisfied: langchain-core<0.3.0,>=0.2.40 in c:\\users\\asus\\anaconda3\\envs\\testingopenai\\lib\\site-packages (from langchain-openai) (0.2.40)\n",
      "Requirement already satisfied: openai<2.0.0,>=1.40.0 in c:\\users\\asus\\anaconda3\\envs\\testingopenai\\lib\\site-packages (from langchain-openai) (1.44.1)\n",
      "Requirement already satisfied: tiktoken<1,>=0.7 in c:\\users\\asus\\anaconda3\\envs\\testingopenai\\lib\\site-packages (from langchain-openai) (0.7.0)\n",
      "Requirement already satisfied: PyYAML>=5.3 in c:\\users\\asus\\anaconda3\\envs\\testingopenai\\lib\\site-packages (from langchain-core<0.3.0,>=0.2.40->langchain-openai) (6.0.2)\n",
      "Requirement already satisfied: jsonpatch<2.0,>=1.33 in c:\\users\\asus\\anaconda3\\envs\\testingopenai\\lib\\site-packages (from langchain-core<0.3.0,>=0.2.40->langchain-openai) (1.33)\n",
      "Requirement already satisfied: langsmith<0.2.0,>=0.1.112 in c:\\users\\asus\\anaconda3\\envs\\testingopenai\\lib\\site-packages (from langchain-core<0.3.0,>=0.2.40->langchain-openai) (0.1.118)\n",
      "Requirement already satisfied: packaging<25,>=23.2 in c:\\users\\asus\\anaconda3\\envs\\testingopenai\\lib\\site-packages (from langchain-core<0.3.0,>=0.2.40->langchain-openai) (24.1)\n",
      "Requirement already satisfied: pydantic<3,>=1 in c:\\users\\asus\\anaconda3\\envs\\testingopenai\\lib\\site-packages (from langchain-core<0.3.0,>=0.2.40->langchain-openai) (2.9.1)\n",
      "Requirement already satisfied: tenacity!=8.4.0,<9.0.0,>=8.1.0 in c:\\users\\asus\\anaconda3\\envs\\testingopenai\\lib\\site-packages (from langchain-core<0.3.0,>=0.2.40->langchain-openai) (8.5.0)\n",
      "Requirement already satisfied: typing-extensions>=4.7 in c:\\users\\asus\\anaconda3\\envs\\testingopenai\\lib\\site-packages (from langchain-core<0.3.0,>=0.2.40->langchain-openai) (4.12.2)\n",
      "Requirement already satisfied: anyio<5,>=3.5.0 in c:\\users\\asus\\anaconda3\\envs\\testingopenai\\lib\\site-packages (from openai<2.0.0,>=1.40.0->langchain-openai) (4.4.0)\n",
      "Requirement already satisfied: distro<2,>=1.7.0 in c:\\users\\asus\\anaconda3\\envs\\testingopenai\\lib\\site-packages (from openai<2.0.0,>=1.40.0->langchain-openai) (1.9.0)\n",
      "Requirement already satisfied: httpx<1,>=0.23.0 in c:\\users\\asus\\anaconda3\\envs\\testingopenai\\lib\\site-packages (from openai<2.0.0,>=1.40.0->langchain-openai) (0.27.2)\n",
      "Requirement already satisfied: jiter<1,>=0.4.0 in c:\\users\\asus\\anaconda3\\envs\\testingopenai\\lib\\site-packages (from openai<2.0.0,>=1.40.0->langchain-openai) (0.5.0)\n",
      "Requirement already satisfied: sniffio in c:\\users\\asus\\anaconda3\\envs\\testingopenai\\lib\\site-packages (from openai<2.0.0,>=1.40.0->langchain-openai) (1.3.1)\n",
      "Requirement already satisfied: tqdm>4 in c:\\users\\asus\\anaconda3\\envs\\testingopenai\\lib\\site-packages (from openai<2.0.0,>=1.40.0->langchain-openai) (4.66.5)\n",
      "Requirement already satisfied: regex>=2022.1.18 in c:\\users\\asus\\anaconda3\\envs\\testingopenai\\lib\\site-packages (from tiktoken<1,>=0.7->langchain-openai) (2024.9.11)\n",
      "Requirement already satisfied: requests>=2.26.0 in c:\\users\\asus\\anaconda3\\envs\\testingopenai\\lib\\site-packages (from tiktoken<1,>=0.7->langchain-openai) (2.32.3)\n",
      "Requirement already satisfied: idna>=2.8 in c:\\users\\asus\\anaconda3\\envs\\testingopenai\\lib\\site-packages (from anyio<5,>=3.5.0->openai<2.0.0,>=1.40.0->langchain-openai) (3.8)\n",
      "Requirement already satisfied: exceptiongroup>=1.0.2 in c:\\users\\asus\\anaconda3\\envs\\testingopenai\\lib\\site-packages (from anyio<5,>=3.5.0->openai<2.0.0,>=1.40.0->langchain-openai) (1.2.2)\n",
      "Requirement already satisfied: certifi in c:\\users\\asus\\anaconda3\\envs\\testingopenai\\lib\\site-packages (from httpx<1,>=0.23.0->openai<2.0.0,>=1.40.0->langchain-openai) (2024.8.30)\n",
      "Requirement already satisfied: httpcore==1.* in c:\\users\\asus\\anaconda3\\envs\\testingopenai\\lib\\site-packages (from httpx<1,>=0.23.0->openai<2.0.0,>=1.40.0->langchain-openai) (1.0.5)\n",
      "Requirement already satisfied: h11<0.15,>=0.13 in c:\\users\\asus\\anaconda3\\envs\\testingopenai\\lib\\site-packages (from httpcore==1.*->httpx<1,>=0.23.0->openai<2.0.0,>=1.40.0->langchain-openai) (0.14.0)\n",
      "Requirement already satisfied: jsonpointer>=1.9 in c:\\users\\asus\\anaconda3\\envs\\testingopenai\\lib\\site-packages (from jsonpatch<2.0,>=1.33->langchain-core<0.3.0,>=0.2.40->langchain-openai) (3.0.0)\n",
      "Requirement already satisfied: orjson<4.0.0,>=3.9.14 in c:\\users\\asus\\anaconda3\\envs\\testingopenai\\lib\\site-packages (from langsmith<0.2.0,>=0.1.112->langchain-core<0.3.0,>=0.2.40->langchain-openai) (3.10.7)\n",
      "Requirement already satisfied: annotated-types>=0.6.0 in c:\\users\\asus\\anaconda3\\envs\\testingopenai\\lib\\site-packages (from pydantic<3,>=1->langchain-core<0.3.0,>=0.2.40->langchain-openai) (0.7.0)\n",
      "Requirement already satisfied: pydantic-core==2.23.3 in c:\\users\\asus\\anaconda3\\envs\\testingopenai\\lib\\site-packages (from pydantic<3,>=1->langchain-core<0.3.0,>=0.2.40->langchain-openai) (2.23.3)\n",
      "Requirement already satisfied: charset-normalizer<4,>=2 in c:\\users\\asus\\anaconda3\\envs\\testingopenai\\lib\\site-packages (from requests>=2.26.0->tiktoken<1,>=0.7->langchain-openai) (3.3.2)\n",
      "Requirement already satisfied: urllib3<3,>=1.21.1 in c:\\users\\asus\\anaconda3\\envs\\testingopenai\\lib\\site-packages (from requests>=2.26.0->tiktoken<1,>=0.7->langchain-openai) (2.2.2)\n",
      "Requirement already satisfied: colorama in c:\\users\\asus\\anaconda3\\envs\\testingopenai\\lib\\site-packages (from tqdm>4->openai<2.0.0,>=1.40.0->langchain-openai) (0.4.6)\n",
      "Note: you may need to restart the kernel to use updated packages.\n"
     ]
    }
   ],
   "source": [
    "pip install -U langchain-openai"
   ]
  },
  {
   "cell_type": "code",
   "execution_count": 39,
   "id": "e430b27a-b914-43bf-bdb8-dd49e6ec0549",
   "metadata": {},
   "outputs": [],
   "source": [
    "from langchain_openai import OpenAI"
   ]
  },
  {
   "cell_type": "code",
   "execution_count": 40,
   "id": "6633063d-046f-460c-8bca-240f78919c48",
   "metadata": {},
   "outputs": [],
   "source": [
    "client=OpenAI(openai_api_key=mykey)"
   ]
  },
  {
   "cell_type": "code",
   "execution_count": 41,
   "id": "a457f14a-8d92-4710-81b1-71882aa440a8",
   "metadata": {},
   "outputs": [],
   "source": [
    "# zero shot prompting\n",
    "prompt=\"can you tell me total number of country in aisa? can you give me top 10 contry name?\""
   ]
  },
  {
   "cell_type": "code",
   "execution_count": 42,
   "id": "2cc70092-0419-4518-a937-5620b2d68975",
   "metadata": {},
   "outputs": [
    {
     "name": "stdout",
     "output_type": "stream",
     "text": [
      "\n",
      "As an AI, I do not have the most up-to-date information on the total number of countries in Asia. However, as of 2021, there are 48 countries recognized by the United Nations in the continent of Asia.\n",
      "\n",
      "Here are the top 10 countries in Asia by population:\n",
      "\n",
      "1. China\n",
      "2. India\n",
      "3. Indonesia\n",
      "4. Pakistan\n",
      "5. Bangladesh\n",
      "6. Japan\n",
      "7. Philippines\n",
      "8. Vietnam\n",
      "9. Iran\n",
      "10. Turkey\n"
     ]
    }
   ],
   "source": [
    "print(client.invoke(prompt))"
   ]
  },
  {
   "cell_type": "code",
   "execution_count": 43,
   "id": "d320afc3-e1ea-49ec-bf19-b81c7489ab06",
   "metadata": {},
   "outputs": [],
   "source": [
    "prompt2=\"can you tell me capital of Srilanka\""
   ]
  },
  {
   "cell_type": "code",
   "execution_count": 44,
   "id": "c9bcae7d-3ec8-4d49-804a-58b6975b568f",
   "metadata": {},
   "outputs": [
    {
     "data": {
      "text/plain": [
       "'The capital of Sri Lanka is Colombo.'"
      ]
     },
     "execution_count": 44,
     "metadata": {},
     "output_type": "execute_result"
    }
   ],
   "source": [
    "client.invoke(prompt2).strip()"
   ]
  },
  {
   "cell_type": "code",
   "execution_count": 45,
   "id": "0f980bb2-e81f-41d2-86e7-1c1302e0f2fa",
   "metadata": {},
   "outputs": [],
   "source": [
    "prompt3=\"what exactly tokens , vector ?\""
   ]
  },
  {
   "cell_type": "code",
   "execution_count": 46,
   "id": "2d3ff764-ad05-421c-a9f1-098691cde532",
   "metadata": {},
   "outputs": [
    {
     "data": {
      "text/plain": [
       "'Tokens refer to individual units of language, such as words, numbers, and punctuation marks, that are used to construct sentences and phrases. In natural language processing, tokens are often created by splitting text into smaller units, which can then be analyzed and processed.\\n\\nA vector is a mathematical representation of a set of numbers or values, arranged in a specific order. In natural language processing, vectors are commonly used to represent words or phrases in a high-dimensional space, where each dimension corresponds to a specific feature or attribute of the word or phrase. This allows for the comparison and analysis of words and phrases based on their shared features.'"
      ]
     },
     "execution_count": 46,
     "metadata": {},
     "output_type": "execute_result"
    }
   ],
   "source": [
    "client.invoke(prompt3).strip()"
   ]
  },
  {
   "cell_type": "markdown",
   "id": "8ae46e0e-7404-4dd6-9d2d-4c8f7e83ee11",
   "metadata": {},
   "source": [
    "Prompt Templates"
   ]
  },
  {
   "cell_type": "code",
   "execution_count": 47,
   "id": "dd4c7a87-cb71-4974-9df5-1d6fb8916fc3",
   "metadata": {},
   "outputs": [],
   "source": [
    "from langchain.prompts import PromptTemplate"
   ]
  },
  {
   "cell_type": "code",
   "execution_count": 48,
   "id": "cba8da7d-4c46-49bb-a412-0ca627d47a3e",
   "metadata": {},
   "outputs": [],
   "source": [
    "prompt_template_name=PromptTemplate(\n",
    "    input_variables = [\"country\"],\n",
    "    template = \"can you tell me the capital of {country}?\"\n",
    ")"
   ]
  },
  {
   "cell_type": "code",
   "execution_count": 49,
   "id": "f60c7b34-e3f6-4160-98cd-580e8918036a",
   "metadata": {},
   "outputs": [],
   "source": [
    "prompt1=prompt_template_name.format(country=\"Sri lanka\")"
   ]
  },
  {
   "cell_type": "code",
   "execution_count": 50,
   "id": "3d3bd657-8bdd-4585-9b11-7aa8706e42f5",
   "metadata": {},
   "outputs": [],
   "source": [
    "prompt2=prompt_template_name.format(country=\"China\")"
   ]
  },
  {
   "cell_type": "code",
   "execution_count": 51,
   "id": "9b37d684-2d67-428b-9a1b-8d346030b641",
   "metadata": {},
   "outputs": [
    {
     "data": {
      "text/plain": [
       "'The capital of China is Beijing.'"
      ]
     },
     "execution_count": 51,
     "metadata": {},
     "output_type": "execute_result"
    }
   ],
   "source": [
    "client.invoke(prompt2).strip()"
   ]
  },
  {
   "cell_type": "code",
   "execution_count": 52,
   "id": "d54fcde5-1810-4d78-a3de-acb4eddb8344",
   "metadata": {},
   "outputs": [],
   "source": [
    "prompt=PromptTemplate.from_template(\"what is a good name for a compnay that makes a {product}\")"
   ]
  },
  {
   "cell_type": "code",
   "execution_count": 53,
   "id": "3a65ea07-d828-4ecb-bb5e-6255a0947383",
   "metadata": {},
   "outputs": [],
   "source": [
    "prompt3=prompt.format(product=\"toys\")"
   ]
  },
  {
   "cell_type": "code",
   "execution_count": 54,
   "id": "1bfb6c24-1fb2-444e-9fae-d1da998b525a",
   "metadata": {},
   "outputs": [
    {
     "name": "stdout",
     "output_type": "stream",
     "text": [
      "\"Playful Creations Co.\" or \"Imagination Emporium\"\n"
     ]
    }
   ],
   "source": [
    "print(client.invoke(prompt3).strip())"
   ]
  },
  {
   "cell_type": "markdown",
   "id": "84c2f532-cff0-410d-b345-845449c37c8a",
   "metadata": {},
   "source": [
    "AGENT"
   ]
  },
  {
   "cell_type": "code",
   "execution_count": 55,
   "id": "846130fe-539e-4bc0-8bfa-1c3bad0f987f",
   "metadata": {},
   "outputs": [
    {
     "name": "stdout",
     "output_type": "stream",
     "text": [
      "Requirement already satisfied: google-search-results in c:\\users\\asus\\anaconda3\\envs\\testingopenai\\lib\\site-packages (2.4.2)\n",
      "Requirement already satisfied: requests in c:\\users\\asus\\anaconda3\\envs\\testingopenai\\lib\\site-packages (from google-search-results) (2.32.3)\n",
      "Requirement already satisfied: charset-normalizer<4,>=2 in c:\\users\\asus\\anaconda3\\envs\\testingopenai\\lib\\site-packages (from requests->google-search-results) (3.3.2)\n",
      "Requirement already satisfied: idna<4,>=2.5 in c:\\users\\asus\\anaconda3\\envs\\testingopenai\\lib\\site-packages (from requests->google-search-results) (3.8)\n",
      "Requirement already satisfied: urllib3<3,>=1.21.1 in c:\\users\\asus\\anaconda3\\envs\\testingopenai\\lib\\site-packages (from requests->google-search-results) (2.2.2)\n",
      "Requirement already satisfied: certifi>=2017.4.17 in c:\\users\\asus\\anaconda3\\envs\\testingopenai\\lib\\site-packages (from requests->google-search-results) (2024.8.30)\n"
     ]
    }
   ],
   "source": [
    "!pip install google-search-results"
   ]
  },
  {
   "cell_type": "code",
   "execution_count": 56,
   "id": "d3483c11-43c1-43bb-ab54-5b66137e2664",
   "metadata": {},
   "outputs": [],
   "source": [
    "serpapi_key=\"2eada71dc1a8fa507ff48467a4c9c4dcbf1a62f4fddcfaa9b8853fc29bcf64c5\""
   ]
  },
  {
   "cell_type": "code",
   "execution_count": 57,
   "id": "2c6cf419-8e4d-47e1-81d7-b85865587005",
   "metadata": {},
   "outputs": [],
   "source": [
    "from langchain.agents import AgentType\n",
    "from langchain.agents import load_tools \n",
    "from langchain.agents import initialize_agent\n",
    "from langchain.llms import OpenAI"
   ]
  },
  {
   "cell_type": "code",
   "execution_count": 58,
   "id": "d81a4971-163a-42d0-b1a2-7d3a630ea620",
   "metadata": {},
   "outputs": [],
   "source": [
    "client=OpenAI(openai_api_key=mykey)"
   ]
  },
  {
   "cell_type": "code",
   "execution_count": 59,
   "id": "df2275df-e684-4908-8484-15ab8bc4946a",
   "metadata": {},
   "outputs": [],
   "source": [
    "tool=load_tools([\"serpapi\"],serpapi_api_key=serpapi_key,llm=client)"
   ]
  },
  {
   "cell_type": "code",
   "execution_count": 60,
   "id": "7a5c8fe7-df16-4b84-9aad-085163c02f57",
   "metadata": {},
   "outputs": [
    {
     "name": "stderr",
     "output_type": "stream",
     "text": [
      "C:\\Users\\Asus\\AppData\\Local\\Temp\\ipykernel_1668\\4181513323.py:1: LangChainDeprecationWarning: The function `initialize_agent` was deprecated in LangChain 0.1.0 and will be removed in 1.0. Use Use new agent constructor methods like create_react_agent, create_json_agent, create_structured_chat_agent, etc. instead.\n",
      "  agent = initialize_agent(\n"
     ]
    }
   ],
   "source": [
    "agent = initialize_agent(\n",
    "    tools=tool,  # or tools=tools if it's a list\n",
    "    llm=client,  # or llm=client if you're using an LLM\n",
    "    agent=AgentType.ZERO_SHOT_REACT_DESCRIPTION,\n",
    "    verbose=True\n",
    ")\n"
   ]
  },
  {
   "cell_type": "code",
   "execution_count": 61,
   "id": "8254e366-60a1-4de3-9192-b32e9435509a",
   "metadata": {},
   "outputs": [
    {
     "name": "stderr",
     "output_type": "stream",
     "text": [
      "C:\\Users\\Asus\\AppData\\Local\\Temp\\ipykernel_1668\\3602319804.py:1: LangChainDeprecationWarning: The method `Chain.run` was deprecated in langchain 0.1.0 and will be removed in 1.0. Use invoke instead.\n",
      "  agent.run(\"can you tell who won the cricket worldcup recently?\")\n"
     ]
    },
    {
     "name": "stdout",
     "output_type": "stream",
     "text": [
      "\n",
      "\n",
      "\u001b[1m> Entering new AgentExecutor chain...\u001b[0m\n",
      "\u001b[32;1m\u001b[1;3m To answer this question, I should think about searching for the latest news on the cricket worldcup.\n",
      "Action: Search\n",
      "Action Input: \"cricket worldcup winner\"\u001b[0m\n",
      "Observation: \u001b[36;1m\u001b[1;3mAustralian Men’s Cricket Team\u001b[0m\n",
      "Thought:\u001b[32;1m\u001b[1;3m This seems to be the latest news on the cricket worldcup winner.\n",
      "Final Answer: The Australian Men’s Cricket Team won the cricket worldcup recently.\u001b[0m\n",
      "\n",
      "\u001b[1m> Finished chain.\u001b[0m\n"
     ]
    },
    {
     "data": {
      "text/plain": [
       "'The Australian Men’s Cricket Team won the cricket worldcup recently.'"
      ]
     },
     "execution_count": 61,
     "metadata": {},
     "output_type": "execute_result"
    }
   ],
   "source": [
    "agent.run(\"can you tell who won the cricket worldcup recently?\")"
   ]
  },
  {
   "cell_type": "code",
   "execution_count": 62,
   "id": "1c76f2e0-f839-4928-96c4-cd13dc5e5a41",
   "metadata": {},
   "outputs": [
    {
     "name": "stdout",
     "output_type": "stream",
     "text": [
      "\n",
      "\n",
      "\u001b[1m> Entering new AgentExecutor chain...\u001b[0m\n",
      "\u001b[32;1m\u001b[1;3m I should use a search engine to find the top current affairs in Sri Lanka.\n",
      "Action: Search\n",
      "Action Input: \"top current affairs in Sri Lanka\"\u001b[0m\n",
      "Observation: \u001b[36;1m\u001b[1;3m['The United Nations has given the international community the greenlight to punish Sri Lanka for torture. Congress has taken it.', \"Record 39 candidates to run in Sri Lanka's presidential election · Son of Sri Lanka's ex-leader Mahinda Rajapaksa to run for president · Sri Lanka presidential ...\", \"Sri Lankans' fury forced the powerful Rajapaksa clan out. · Sri Lanka closes schools amid deadly floods and mudslides · Race car in Sri Lanka veers off the track ...\", \"It's Sri Lanka's first election since it saw mass protests that triggered its worst economic crisis. 1 day ago. Asia.\", 'High Commission of Sri Lanka in Malaysia Welcomes Defence Service Command and Staff College (DSCSC) Delegation · Weather Forecast · EDB and KPMG Sri Lanka ...', 'Two years ago, tens of thousands of Sri Lankans rose up against their president and forced him to flee the country.', '18 Sep 2024 - Top Story Presidential Election: Eleven rallies today · 17 Sep 2024 - Breaking News This could be the last democratic election in Sri Lanka-Patali.', \"Regressive government policies and inadequate social protection left many Sri Lankans at risk from the worst effects of the country's economic crisis.\", 'View the latest Sri Lanka news and videos, including politics and business headlines. A general view of the parliament is seen while a vote for a new president ...']\u001b[0m\n",
      "Thought:\u001b[32;1m\u001b[1;3m I now know the final answer\n",
      "Final Answer: Some top current affairs in Sri Lanka are the United Nations' decision to punish Sri Lanka for torture, the upcoming presidential election, recent natural disasters and economic crisis, and political protests against the current government.\u001b[0m\n",
      "\n",
      "\u001b[1m> Finished chain.\u001b[0m\n"
     ]
    },
    {
     "data": {
      "text/plain": [
       "\"Some top current affairs in Sri Lanka are the United Nations' decision to punish Sri Lanka for torture, the upcoming presidential election, recent natural disasters and economic crisis, and political protests against the current government.\""
      ]
     },
     "execution_count": 62,
     "metadata": {},
     "output_type": "execute_result"
    }
   ],
   "source": [
    "agent.run(\"can you tell me 5 top current affairs in Sri lanka?\")"
   ]
  },
  {
   "cell_type": "code",
   "execution_count": 63,
   "id": "14ef6501-3aba-4bb0-a64e-9808afa6eb16",
   "metadata": {},
   "outputs": [
    {
     "name": "stdout",
     "output_type": "stream",
     "text": [
      "Requirement already satisfied: wikipedia in c:\\users\\asus\\anaconda3\\envs\\testingopenai\\lib\\site-packages (1.4.0)\n",
      "Requirement already satisfied: beautifulsoup4 in c:\\users\\asus\\anaconda3\\envs\\testingopenai\\lib\\site-packages (from wikipedia) (4.12.3)\n",
      "Requirement already satisfied: requests<3.0.0,>=2.0.0 in c:\\users\\asus\\anaconda3\\envs\\testingopenai\\lib\\site-packages (from wikipedia) (2.32.3)\n",
      "Requirement already satisfied: charset-normalizer<4,>=2 in c:\\users\\asus\\anaconda3\\envs\\testingopenai\\lib\\site-packages (from requests<3.0.0,>=2.0.0->wikipedia) (3.3.2)\n",
      "Requirement already satisfied: idna<4,>=2.5 in c:\\users\\asus\\anaconda3\\envs\\testingopenai\\lib\\site-packages (from requests<3.0.0,>=2.0.0->wikipedia) (3.8)\n",
      "Requirement already satisfied: urllib3<3,>=1.21.1 in c:\\users\\asus\\anaconda3\\envs\\testingopenai\\lib\\site-packages (from requests<3.0.0,>=2.0.0->wikipedia) (2.2.2)\n",
      "Requirement already satisfied: certifi>=2017.4.17 in c:\\users\\asus\\anaconda3\\envs\\testingopenai\\lib\\site-packages (from requests<3.0.0,>=2.0.0->wikipedia) (2024.8.30)\n",
      "Requirement already satisfied: soupsieve>1.2 in c:\\users\\asus\\anaconda3\\envs\\testingopenai\\lib\\site-packages (from beautifulsoup4->wikipedia) (2.6)\n"
     ]
    }
   ],
   "source": [
    "!pip install wikipedia"
   ]
  },
  {
   "cell_type": "code",
   "execution_count": 64,
   "id": "d4cff11c-f7d6-47ec-b30c-3821d2ce357d",
   "metadata": {},
   "outputs": [],
   "source": [
    "tool=load_tools([\"wikipedia\"],llm=client)"
   ]
  },
  {
   "cell_type": "code",
   "execution_count": 65,
   "id": "aef69e1a-d67b-4272-b9c2-5f0ee5dbc6a3",
   "metadata": {},
   "outputs": [],
   "source": [
    "agent=initialize_agent(tool,client,agent=AgentType.ZERO_SHOT_REACT_DESCRIPTION,verbose=True)"
   ]
  },
  {
   "cell_type": "code",
   "execution_count": 66,
   "id": "96b162db-32bd-40df-a026-b1393ed976b8",
   "metadata": {},
   "outputs": [
    {
     "name": "stdout",
     "output_type": "stream",
     "text": [
      "\n",
      "\n",
      "\u001b[1m> Entering new AgentExecutor chain...\u001b[0m\n",
      "\u001b[32;1m\u001b[1;3m I should always think about what to do\n",
      "Action: wikipedia\n",
      "Action Input: Sri Lanka GDP\u001b[0m\n",
      "Observation: \u001b[36;1m\u001b[1;3mPage: Economy of Sri Lanka\n",
      "Summary: The mixed economy of Sri Lanka was worth $84 billion by nominal gross domestic product (GDP) in 2019 and $296.959 billion by purchasing power parity (PPP). The country had experienced an annual growth of 6.4 percent from 2003 to 2012, well above its regional peers. This growth was driven by the growth of non-tradable sectors, which the World Bank warned to be both unsustainable and unequitable. Growth has slowed since then. In 2019 with an income per capita of 13,620 PPP Dollars or 3,852 (2019) nominal US dollars, Sri Lanka was re-classified as a lower middle income nation with the population around 22 million (2021) by the World Bank from a previous upper middle income status.\n",
      "Sri Lanka has met the Millennium Development Goal (MDG) target of halving extreme poverty and is on track to meet most of the other MDGs, outperforming other South Asian countries. Sri Lanka's poverty headcount index was 4.1% by 2016. Since the end of the three-decade-long Sri Lankan Civil War, Sri Lanka has begun focusing on long-term strategic and structural development challenges, and has financed several infrastructure projects.\n",
      "High foreign debt, economic mismanagement under the governments of Gotabhaya and Mahinda Rajapaksa, and lower tourism revenue led to the country defaulting on its sovereign debt in April 2022. The economy contracted 7.8% in 2022, and the percentage of the population earning less than $3.65 a day doubled to around 25% of the population. On March 20, 2023, the IMF has loaned US$3 billion to the country as part of a 48-month debt relief program.\n",
      "\n",
      "Page: Sri Lankan Civil War\n",
      "Summary: The Sri Lankan Civil War (Tamil: இலங்கை உள்நாட்டுப் போர், romanized: Ilaṅkai uḷnāṭṭup pōr; Sinhala: ශ්‍රී ලංකාවේ සිවිල් යුද්ධය, romanized: śrī laṁkāvē sivil yuddhaya) was a civil war fought in Sri Lanka from 1983 to 2009. Beginning on 23 July 1983, it was an intermittent insurgency against the government by the Liberation Tigers of Tamil Eelam (LTTE, also known as the Tamil Tigers) led by Velupillai Prabhakaran. The LTTE fought to create an independent Tamil state called Tamil Eelam in the north-east of the island, due to the continuous discrimination and violent persecution against Sri Lankan Tamils by the Sinhalese-dominated Sri Lanka government.\n",
      "Violent persecution erupted in the form of the 1956, 1958, 1977, 1981 and 1983 anti-Tamil pogroms, as well as the 1981 burning of the Jaffna Public Library. These were carried out by the majority Sinhalese mobs often with state support, in the years following Sri Lanka's independence from the British Empire in 1948. Shortly after gaining independence, Sinhalese was recognized as the sole official language of the nation. After a 26-year military campaign, the Sri Lankan military defeated the Tamil Tigers in May 2009, bringing the civil war to an end.\n",
      "Up to 70,000 had been killed by 2007. Immediately following the end of war, on 20 May 2009, the UN estimated a total of 80,000–100,000 deaths. However, in 2011, referring to the final phase of the war in 2009, the Report of the Secretary-General's Panel of Experts on Accountability in Sri Lanka stated, \"A number of credible sources have estimated that there could have been as many as 40,000 civilian deaths.\" The Sri Lankan government has repeatedly refused an independent, international investigation to ascertain the full impact of the war, with some reports claiming that government forces were raping and torturing Tamils involved in collating deaths and disappearances.\n",
      "Since the end of the civil war, the Sri Lankan state has been subject to much global criticism for violating human rights as a result of committing war crimes through bombing civilian targets, usage of heavy weaponry, the abduction and massacres of Sri Lankan Tamils and sexual violence. The LTTE gained notoriety for carrying out numerous attacks against civilians of all ethnicities, particularly those of Sinhalese and Sri Lankan Muslim ethnicity, using child so\u001b[0m\n",
      "Thought:\u001b[32;1m\u001b[1;3m I should always think about what to do\n",
      "Action: wikipedia\n",
      "Action Input: Sri Lanka current GDP\u001b[0m\n",
      "Observation: \u001b[36;1m\u001b[1;3mPage: Economy of Sri Lanka\n",
      "Summary: The mixed economy of Sri Lanka was worth $84 billion by nominal gross domestic product (GDP) in 2019 and $296.959 billion by purchasing power parity (PPP). The country had experienced an annual growth of 6.4 percent from 2003 to 2012, well above its regional peers. This growth was driven by the growth of non-tradable sectors, which the World Bank warned to be both unsustainable and unequitable. Growth has slowed since then. In 2019 with an income per capita of 13,620 PPP Dollars or 3,852 (2019) nominal US dollars, Sri Lanka was re-classified as a lower middle income nation with the population around 22 million (2021) by the World Bank from a previous upper middle income status.\n",
      "Sri Lanka has met the Millennium Development Goal (MDG) target of halving extreme poverty and is on track to meet most of the other MDGs, outperforming other South Asian countries. Sri Lanka's poverty headcount index was 4.1% by 2016. Since the end of the three-decade-long Sri Lankan Civil War, Sri Lanka has begun focusing on long-term strategic and structural development challenges, and has financed several infrastructure projects.\n",
      "High foreign debt, economic mismanagement under the governments of Gotabhaya and Mahinda Rajapaksa, and lower tourism revenue led to the country defaulting on its sovereign debt in April 2022. The economy contracted 7.8% in 2022, and the percentage of the population earning less than $3.65 a day doubled to around 25% of the population. On March 20, 2023, the IMF has loaned US$3 billion to the country as part of a 48-month debt relief program.\n",
      "\n",
      "Page: Sri Lankan Civil War\n",
      "Summary: The Sri Lankan Civil War (Tamil: இலங்கை உள்நாட்டுப் போர், romanized: Ilaṅkai uḷnāṭṭup pōr; Sinhala: ශ්‍රී ලංකාවේ සිවිල් යුද්ධය, romanized: śrī laṁkāvē sivil yuddhaya) was a civil war fought in Sri Lanka from 1983 to 2009. Beginning on 23 July 1983, it was an intermittent insurgency against the government by the Liberation Tigers of Tamil Eelam (LTTE, also known as the Tamil Tigers) led by Velupillai Prabhakaran. The LTTE fought to create an independent Tamil state called Tamil Eelam in the north-east of the island, due to the continuous discrimination and violent persecution against Sri Lankan Tamils by the Sinhalese-dominated Sri Lanka government.\n",
      "Violent persecution erupted in the form of the 1956, 1958, 1977, 1981 and 1983 anti-Tamil pogroms, as well as the 1981 burning of the Jaffna Public Library. These were carried out by the majority Sinhalese mobs often with state support, in the years following Sri Lanka's independence from the British Empire in 1948. Shortly after gaining independence, Sinhalese was recognized as the sole official language of the nation. After a 26-year military campaign, the Sri Lankan military defeated the Tamil Tigers in May 2009, bringing the civil war to an end.\n",
      "Up to 70,000 had been killed by 2007. Immediately following the end of war, on 20 May 2009, the UN estimated a total of 80,000–100,000 deaths. However, in 2011, referring to the final phase of the war in 2009, the Report of the Secretary-General's Panel of Experts on Accountability in Sri Lanka stated, \"A number of credible sources have estimated that there could have been as many as 40,000 civilian deaths.\" The Sri Lankan government has repeatedly refused an independent, international investigation to ascertain the full impact of the war, with some reports claiming that government forces were raping and torturing Tamils involved in collating deaths and disappearances.\n",
      "Since the end of the civil war, the Sri Lankan state has been subject to much global criticism for violating human rights as a result of committing war crimes through bombing civilian targets, usage of heavy weaponry, the abduction and massacres of Sri Lankan Tamils and sexual violence. The LTTE gained notoriety for carrying out numerous attacks against civilians of all ethnicities, particularly those of Sinhalese and Sri Lankan Muslim ethnicity, using child so\u001b[0m\n",
      "Thought:\u001b[32;1m\u001b[1;3m I should always think about what to do\n",
      "Action: wikipedia\n",
      "Action Input: Sri Lanka\u001b[0m\n",
      "Observation: \u001b[36;1m\u001b[1;3mPage: Sri Lanka\n",
      "Summary: Sri Lanka, historically known as Ceylon, and officially the Democratic Socialist Republic of Sri Lanka, is an island country in South Asia. It lies in the Indian Ocean, southwest of the Bay of Bengal, separated from the Indian peninsula by the Gulf of Mannar and the Palk Strait. It shares a maritime border with the Maldives in the southwest and India in the northwest.\n",
      "Sri Lanka has a population of approximately 22 million and is home to several cultures, languages and ethnicities. The Sinhalese people form the majority of the population, followed by the Sri Lankan Tamils, who are the largest minority group and are concentrated in northern Sri Lanka; both groups have played an influential role in the island's history. Other long-established groups include the Moors, Indian Tamils, Burghers, Malays, Chinese, and Vedda.\n",
      "Sri Lanka's documented history goes back 3,000 years, with evidence of prehistoric human settlements dating back 125,000 years. The earliest known Buddhist writings of Sri Lanka, known collectively as the Pali Canon, date to the fourth Buddhist council, which took place in 29 BCE. Also called the Pearl of the Indian Ocean, or the Granary of the East, Sri Lanka's geographic location and deep harbours have made it of great strategic importance, from the earliest days of the ancient Silk Road trade route to today's so-called maritime Silk Road. Because its location made it a major trading hub, it was already known to both East Asians and Europeans as long ago as the Anuradhapura period. During a period of great political crisis in the Kingdom of Kotte, the Portuguese arrived in Sri Lanka and sought to control its maritime trade, with a part of Sri Lanka subsequently becoming a Portuguese possession. After the Sinhalese-Portuguese war, the Dutch colonial empire and the Kingdom of Kandy took control of those areas. Dutch Ceylon was taken by the British Empire, which extended control over the whole island, colonising it as British Ceylon from 1815 to 1948. A national movement for political independence arose in the early 20th century, and in 1948, Ceylon became a dominion. It was succeeded by the republic of Sri Lanka in 1972. Sri Lanka's more recent history was marred by the 26-year Sri Lankan Civil War, which began in 1983 and ended in 2009, when the Sri Lanka Armed Forces defeated the Liberation Tigers of Tamil Eelam.\n",
      "Sri Lanka is a developing country, ranking 78th on the Human Development Index. It is the highest-ranked South Asian nation in terms of development and has the second-highest per capita income in South Asia. However, the ongoing Sri Lankan economic crisis has resulted in the collapse of its currency, rising inflation, and a humanitarian crisis due to a severe shortage of essentials. This led to the 2022 Sri Lankan protests, with citizens successfully demanding that the president and the government step down. The country has had a long history of engagement with modern international groups; it is a founding member of the SAARC, the G77 and the Non-Aligned Movement, as well as a member of the United Nations and the Commonwealth of Nations.\n",
      "\n",
      "Page: Sri Lankan Civil War\n",
      "Summary: The Sri Lankan Civil War (Tamil: இலங்கை உள்நாட்டுப் போர், romanized: Ilaṅkai uḷnāṭṭup pōr; Sinhala: ශ්‍රී ලංකාවේ සිවිල් යුද්ධය, romanized: śrī laṁkāvē sivil yuddhaya) was a civil war fought in Sri Lanka from 1983 to 2009. Beginning on 23 July 1983, it was an intermittent insurgency against the government by the Liberation Tigers of Tamil Eelam (LTTE, also known as the Tamil Tigers) led by Velupillai Prabhakaran. The LTTE fought to create an independent Tamil state called Tamil Eelam in the north-east of the island, due to the continuous discrimination and violent persecution against Sri Lankan Tamils by the Sinhalese-dominated Sri Lanka government.\n",
      "Violent persecution erupted in the form of the 1956, 1958, 1977, 1981 and 1983 anti-Tamil pogroms, as well as the 1981 burning of the Jaffna Public Library. These \u001b[0m\n",
      "Thought:\u001b[32;1m\u001b[1;3m I now know the final answer\n",
      "Final Answer: The current GDP of Sri Lanka is $84 billion by nominal gross domestic product (GDP) in 2019 and $296.959 billion by purchasing power parity (PPP).\u001b[0m\n",
      "\n",
      "\u001b[1m> Finished chain.\u001b[0m\n"
     ]
    },
    {
     "data": {
      "text/plain": [
       "'The current GDP of Sri Lanka is $84 billion by nominal gross domestic product (GDP) in 2019 and $296.959 billion by purchasing power parity (PPP).'"
      ]
     },
     "execution_count": 66,
     "metadata": {},
     "output_type": "execute_result"
    }
   ],
   "source": [
    "agent.run(\"can you tell me what is current GDP of Sri lanka\")"
   ]
  },
  {
   "cell_type": "markdown",
   "id": "ab50bb0d-3bec-45a1-9efd-119ab79d9de6",
   "metadata": {},
   "source": [
    "CHAIN"
   ]
  },
  {
   "cell_type": "code",
   "execution_count": 67,
   "id": "3fa1747a-9a35-4e8e-91ce-b3dc928545e4",
   "metadata": {},
   "outputs": [
    {
     "data": {
      "text/plain": [
       "OpenAI(client=<openai.resources.completions.Completions object at 0x000001D86CA5E880>, async_client=<openai.resources.completions.AsyncCompletions object at 0x000001D86CA91460>, openai_api_key='sk-WAdKyY1OzdOGHzp7bw0AYBnlXuDVXoguNIc_AAYffpT3BlbkFJKcqq3IGBql5F8BDH88SC7L6cXVHc8pc3AUy7OZLu8A', openai_proxy='')"
      ]
     },
     "execution_count": 67,
     "metadata": {},
     "output_type": "execute_result"
    }
   ],
   "source": [
    "client"
   ]
  },
  {
   "cell_type": "code",
   "execution_count": 76,
   "id": "1cd9c453-ef6f-4fc4-adb8-f48b03e02cce",
   "metadata": {},
   "outputs": [],
   "source": [
    "from langchain.prompts import PromptTemplate\n",
    "\n",
    "prompt=PromptTemplate.from_template(\"what is the good name for a company that makes {product}\")"
   ]
  },
  {
   "cell_type": "code",
   "execution_count": 77,
   "id": "2bd7bd97-1e13-45fe-a233-c0ccf31984ef",
   "metadata": {},
   "outputs": [],
   "source": [
    "from langchain.chains import LLMChain"
   ]
  },
  {
   "cell_type": "code",
   "execution_count": 78,
   "id": "2062816e-79e2-4b6c-b011-cc1536ad722e",
   "metadata": {},
   "outputs": [],
   "source": [
    "chain=LLMChain(llm=client,prompt=prompt)"
   ]
  },
  {
   "cell_type": "code",
   "execution_count": 80,
   "id": "8c0263ab-9a88-41ba-acb0-f3f17faeabe7",
   "metadata": {},
   "outputs": [
    {
     "data": {
      "text/plain": [
       "'Vine & Vintages, Grape & Glass Co., Cellar Selects, Vino Ventures, Tasteful Tannins, Winemaker\\'s Choice, Vinum Vitae (Latin for \"Wine of Life\"), Noble Nectar Co., Chateau Charm, Vintage Vines Co., Bacchus Bliss, The Wine Company, Cellar Masters, Grand Cru Creations'"
      ]
     },
     "execution_count": 80,
     "metadata": {},
     "output_type": "execute_result"
    }
   ],
   "source": [
    "chain.run(\"wine\").strip()"
   ]
  },
  {
   "cell_type": "code",
   "execution_count": 82,
   "id": "5a41af15-00ea-4b60-86cf-2c5b64c232cd",
   "metadata": {},
   "outputs": [],
   "source": [
    "prompt_template=PromptTemplate(\n",
    "    input_variable=['cuisine'],\n",
    "    template=\"i want to open a restaurent for {cuisine} food, suggest a fency name for this\"\n",
    ")"
   ]
  },
  {
   "cell_type": "code",
   "execution_count": 83,
   "id": "79004e49-cea7-4403-82ff-cc8a745892b5",
   "metadata": {},
   "outputs": [
    {
     "data": {
      "text/plain": [
       "PromptTemplate(input_variables=['cuisine'], template='i want to open a restaurent for {cuisine} food, suggest a fency name for this')"
      ]
     },
     "execution_count": 83,
     "metadata": {},
     "output_type": "execute_result"
    }
   ],
   "source": [
    "prompt_template"
   ]
  },
  {
   "cell_type": "code",
   "execution_count": 84,
   "id": "ae7dc5b1-af9e-46be-8c0f-61efe4c081fb",
   "metadata": {},
   "outputs": [],
   "source": [
    "chain=LLMChain(llm=client,prompt=prompt_template)"
   ]
  },
  {
   "cell_type": "code",
   "execution_count": 88,
   "id": "486c92eb-ef4b-4fbb-a7e8-c4de3c3d3d4b",
   "metadata": {},
   "outputs": [
    {
     "data": {
      "text/plain": [
       "'\"Bella Vita Ristorante\"'"
      ]
     },
     "execution_count": 88,
     "metadata": {},
     "output_type": "execute_result"
    }
   ],
   "source": [
    "chain.run(\"Italian\").strip()"
   ]
  },
  {
   "cell_type": "code",
   "execution_count": 89,
   "id": "d6b5faa6-ce88-48ad-becc-87953b0bd27d",
   "metadata": {},
   "outputs": [],
   "source": [
    "chain=LLMChain(llm=client,prompt=prompt_template,verbose=True)"
   ]
  },
  {
   "cell_type": "code",
   "execution_count": 90,
   "id": "c0e43338-33db-4dcc-8ba5-5393c425858f",
   "metadata": {},
   "outputs": [
    {
     "name": "stdout",
     "output_type": "stream",
     "text": [
      "\n",
      "\n",
      "\u001b[1m> Entering new LLMChain chain...\u001b[0m\n",
      "Prompt after formatting:\n",
      "\u001b[32;1m\u001b[1;3mi want to open a restaurent for American food, suggest a fency name for this\u001b[0m\n",
      "\n",
      "\u001b[1m> Finished chain.\u001b[0m\n"
     ]
    },
    {
     "data": {
      "text/plain": [
       "\"\\n\\n1. Stateside Bistro\\n2. The American Table\\n3. Stars and Stripes Diner\\n4. Liberty's Kitchen\\n5. All-American Eatery\\n6. Uncle Sam's Cafe\\n7. Yankee Grill\\n8. Red, White, and Blue Bistro\\n9. The Patriot's Plate\\n10. American Fare Fine Dining \\n\""
      ]
     },
     "execution_count": 90,
     "metadata": {},
     "output_type": "execute_result"
    }
   ],
   "source": [
    "chain.run(\"American\")"
   ]
  },
  {
   "cell_type": "markdown",
   "id": "221572db-2d7a-404a-bf32-184d8b6d3f2b",
   "metadata": {},
   "source": [
    "Multiple chain"
   ]
  },
  {
   "cell_type": "code",
   "execution_count": 91,
   "id": "449cc386-4ffc-4e94-8041-d224cf938968",
   "metadata": {},
   "outputs": [],
   "source": [
    "prompt_template_name=PromptTemplate(\n",
    "input_variables=[\"startup_name\"],\n",
    "    template=\"I want to start a startup for {startup-name} , suggest me a good name for this\"   \n",
    ")"
   ]
  },
  {
   "cell_type": "code",
   "execution_count": 92,
   "id": "dd264494-a287-4bd7-822f-3239ea14e072",
   "metadata": {},
   "outputs": [],
   "source": [
    "name_chain=LLMChain(llm=client,prompt=prompt_template_name)"
   ]
  },
  {
   "cell_type": "code",
   "execution_count": 93,
   "id": "67b73216-b29f-4fc6-8a4a-9a0050551fe6",
   "metadata": {},
   "outputs": [],
   "source": [
    "prompt_template_items=PromptTemplate(\n",
    "input_variables=[\"name\"],\n",
    "    template=\"suggest some strategies for {name}\"    \n",
    ")"
   ]
  },
  {
   "cell_type": "code",
   "execution_count": 94,
   "id": "313f5d6f-f454-4cd6-bd4f-0434073661a8",
   "metadata": {},
   "outputs": [],
   "source": [
    "strategies_chain=LLMChain(llm=client,prompt=prompt_template_items)"
   ]
  },
  {
   "cell_type": "code",
   "execution_count": 95,
   "id": "26fbcffe-7f09-474c-8a59-0108116214d0",
   "metadata": {},
   "outputs": [],
   "source": [
    "from langchain.chains import SimpleSequentialChain"
   ]
  },
  {
   "cell_type": "code",
   "execution_count": 96,
   "id": "3219d716-8417-474f-b247-6ce6d9dcf9c6",
   "metadata": {},
   "outputs": [],
   "source": [
    "chain=SimpleSequentialChain(chains=[name_chain,strategies_chain])"
   ]
  },
  {
   "cell_type": "code",
   "execution_count": 98,
   "id": "cf50c2f9-1ac8-41b7-9ac3-02a56dcc997d",
   "metadata": {},
   "outputs": [
    {
     "name": "stdout",
     "output_type": "stream",
     "text": [
      "\n",
      "\n",
      "1. Develop a strong online presence: In today's digital age, having a strong online presence is crucial for any business. Create a professional website, maintain active social media accounts, and consider investing in online marketing strategies such as SEO and PPC to increase visibility and reach a wider audience.\n",
      "\n",
      "2. Network and collaborate: Building relationships with other businesses and professionals in your industry can open up new opportunities for partnerships, collaborations, and referrals. Attend industry events, join relevant networking groups, and actively reach out to potential partners.\n",
      "\n",
      "3. Offer exceptional customer service: A satisfied customer is the best form of advertising. Focus on providing excellent customer service, from the initial contact to post-sale support. This will not only help retain customers but also attract new ones through word-of-mouth recommendations.\n",
      "\n",
      "4. Utilize targeted marketing: Instead of trying to reach a broad audience, focus on identifying your target market and tailor your marketing efforts towards them. This will help you reach the right audience and improve the return on investment for your marketing efforts.\n",
      "\n",
      "5. Leverage the power of reviews and testimonials: Positive reviews and testimonials from satisfied customers can greatly influence a potential customer's decision. Encourage happy customers to leave reviews and testimonials on your website and social media pages.\n",
      "\n",
      "6. Offer promotions and discounts: People\n"
     ]
    }
   ],
   "source": [
    "print(chain.run(\"AI\"))"
   ]
  },
  {
   "cell_type": "markdown",
   "id": "09b39c34-6058-49e8-8f73-c7c55cdf398c",
   "metadata": {},
   "source": [
    "Sequential chain Understanding"
   ]
  },
  {
   "cell_type": "code",
   "execution_count": 99,
   "id": "bbf8d4f2-4f57-4666-b402-955609c0faea",
   "metadata": {},
   "outputs": [],
   "source": [
    "prompt_template_name=PromptTemplate(\n",
    "    input_variables=[\"cuisine\"],\n",
    "    template=\"i want to open a restaurant for {cuisine}, suggest a fency name for it\"\n",
    ")\n",
    "\n",
    "name_chain=LLMChain(llm=client, prompt=prompt_template_name,output_key=\"restaurant_name\")"
   ]
  },
  {
   "cell_type": "code",
   "execution_count": 100,
   "id": "2c3c68f9-cdf2-4788-94ab-87e7b7a1829a",
   "metadata": {},
   "outputs": [],
   "source": [
    "prompt_templates_items=PromptTemplate( \n",
    "    input_variables=[\"restaurant_name\"],\n",
    "    template=\"suggest some menu items for {restaurant_name}\"\n",
    "    \n",
    ")\n",
    "\n",
    "food_items_chain=LLMChain(llm=client, prompt=prompt_templates_items, output_key=\"menu_items\")\n"
   ]
  },
  {
   "cell_type": "code",
   "execution_count": 103,
   "id": "7d4a12c0-4562-45d2-9894-d964b421bbf1",
   "metadata": {},
   "outputs": [],
   "source": [
    "from langchain.chains import SequentialChain"
   ]
  },
  {
   "cell_type": "code",
   "execution_count": 104,
   "id": "5a995886-541e-46ac-a009-613a7fefd8fa",
   "metadata": {},
   "outputs": [],
   "source": [
    "chain=SequentialChain(chains=[name_chain, food_items_chain],\n",
    "    input_variables=[\"cuisine\"],\n",
    "    output_variables=[\"restaurant_name\",\"menu_items\"]\n",
    "    \n",
    ")"
   ]
  },
  {
   "cell_type": "code",
   "execution_count": 110,
   "id": "4ef531af-2b67-416b-ad76-af0f0e8b82e8",
   "metadata": {},
   "outputs": [
    {
     "name": "stdout",
     "output_type": "stream",
     "text": [
      "{'cuisine': 'Indian', 'restaurant_name': '\\n\\n\"Maharaja\\'s Palace\" or \"Spice Kingdom\"', 'menu_items': '\\n\\n1. Butter Chicken: A classic Indian dish made with succulent chicken pieces cooked in a rich buttery tomato-based sauce.\\n2. Biryani: Fragrant basmati rice cooked with spices and your choice of chicken, lamb, or vegetables.\\n3. Tandoori Platter: A selection of tandoori grilled meats and vegetables, including chicken tikka, lamb kebab, and paneer tikka.\\n4. Rogan Josh: A hearty lamb curry cooked in a spicy tomato-based sauce.\\n5. Palak Paneer: A vegetarian dish consisting of cottage cheese cubes cooked in a creamy spinach gravy.\\n6. Chana Masala: A popular chickpea curry with a blend of aromatic spices.\\n7. Samosas: Crispy fried pastry filled with spiced potatoes and peas.\\n8. Naan Bread: Freshly baked flatbread served plain or stuffed with garlic, cheese, or vegetables.\\n9. Mango Lassi: A refreshing yogurt-based drink with mango puree, perfect for cooling down the spice.\\n10. Gulab Jamun: A sweet dessert made of fried dough balls soaked in a sugary syrup.'}\n"
     ]
    }
   ],
   "source": [
    "print(chain({\"cuisine\":\"Indian\"}))"
   ]
  },
  {
   "cell_type": "markdown",
   "id": "082dd10f-cf54-4bf1-8a41-950b85611037",
   "metadata": {},
   "source": [
    "Document Loaders"
   ]
  },
  {
   "cell_type": "code",
   "execution_count": 7,
   "id": "254e5a58-2476-4783-885b-1bae735036ea",
   "metadata": {},
   "outputs": [
    {
     "name": "stdout",
     "output_type": "stream",
     "text": [
      "Requirement already satisfied: pypdf in c:\\users\\asus\\anaconda3\\envs\\testingopenai\\lib\\site-packages (5.0.0)\n",
      "Requirement already satisfied: typing_extensions>=4.0 in c:\\users\\asus\\anaconda3\\envs\\testingopenai\\lib\\site-packages (from pypdf) (4.12.2)\n"
     ]
    }
   ],
   "source": [
    "!pip install pypdf"
   ]
  },
  {
   "cell_type": "code",
   "execution_count": 8,
   "id": "9483ed02-7227-4b8f-9509-d9c39e1d8c37",
   "metadata": {},
   "outputs": [],
   "source": [
    "from langchain.document_loaders import PyPDFLoader"
   ]
  },
  {
   "cell_type": "code",
   "execution_count": 11,
   "id": "6289aa2e-ab03-488e-b164-0655a368c97b",
   "metadata": {},
   "outputs": [],
   "source": [
    "loader = PyPDFLoader(r\"C:\\Users\\Asus\\OneDrive\\Desktop\\SE.pdf\")"
   ]
  },
  {
   "cell_type": "code",
   "execution_count": 13,
   "id": "5e3d75dd-e608-46b1-b196-4a731208c7fb",
   "metadata": {},
   "outputs": [],
   "source": [
    "pages = loader.load_and_split()"
   ]
  },
  {
   "cell_type": "code",
   "execution_count": 14,
   "id": "371c49ea-4d19-425b-92f5-25b3bef17207",
   "metadata": {},
   "outputs": [
    {
     "data": {
      "text/plain": [
       "[Document(metadata={'source': 'C:\\\\Users\\\\Asus\\\\OneDrive\\\\Desktop\\\\SE.pdf', 'page': 0}, page_content='MOHAMED SHARHAAN\\nSoftware Engineering Intern\\nsharhaanmfm@gmail.com 0753323688/0765646577 \\nNo.48,Nijamiya road, kinniya 05. Trincomalee linkedin.com/in/mohamed-sharhaan-62b31324 \\ngithub.com/sharhaan304 https://my-app-bnki.vercel.app/ \\nhttps://www.hackerrank.com/profile/sharhaanmfm \\nPROFILE\\n\"Aspiring software engineer with a passion for developing innovative solutions. Driven by a strong foundation \\nin AI and software development, I am eager to apply my technical skills and creativity to solve complex \\nchallenges and make a meaningful impact in the field.\"\\nEDUCATION\\nBachelor of Science in Artificial Intelligence\\nUniversity of Moratuwa\\nCGPA : 3.01 (until L2S1)2022 – present\\nG.C.E Advance Level\\nT/R.K.M.Sri Koneswara Hindu College\\nResults: Combined Maths - A, Physics - B, Chemistry - C2017 – 2019\\nZ.Score : 1.3981\\nG.C.E Ordinary Level\\nT/Kinniya Central College\\nResults : 9A 2006 – 2016\\nMOOCS\\nMachine Learning Specialization- Coursera\\nDeep Learning Specialization- Coursera\\nObject Oriented Programming in Java\\nIntro to Deep Learning- Kaggle\\nPython programming-CODL\\nWeb Development-CODL\\nPROJECTS\\n2nd year AI based Software Project\\nIFS Community Page Chatbot and Problem Recommendation System2023 – 2024\\nCollaborated with a team to develop a chatbot and a problem recommendation \\nsystem for the IFS Community Page, aimed at improving feedback processes and \\nissue resolution efficiency for the SCM team.\\nTechnologies Used: React, OpenAI Embedding, BeautifulSoup, Langchain, \\nDeepLake, MongoDB, Flask\\n1st year Hardware project\\nsmart sorting robot\\nDeveloped a smart sorting robot to automate the sorting of delivery parcels based on \\naddresses using image classification and Arduino. This project involved:2022 – 2023\\n•Designing and implementing an image classification system to recognize \\naddresses.\\n•Integrating the classification system with an Arduino-controlled sorting \\nmechanism.'),\n",
       " Document(metadata={'source': 'C:\\\\Users\\\\Asus\\\\OneDrive\\\\Desktop\\\\SE.pdf', 'page': 1}, page_content='•Ensuring accurate and efficient parcel sorting, enhancing delivery logistics\\nMy Personal Portfolio website\\nto showcase my passion\\nTeachnologies Used : Next.js, TailwindCSS, Framer Motion, Typescripts\\nPython Sentiment Analysis\\ncreate a sentiment analysis model to rating the customer reviews of a perticular \\nHotel website.\\nTechnologies Used : Pytorch, NLTK, BERT \\nSample Social media App\\nJust create to learn react basics and Applications\\nTechnology used : React.Js, HTML, CSS\\nWord Embedding Model\\nthe model that helps to get clear information about a particular persons Wikipedia page\\nTechnology Used : NLTK, porterStummer, Corpus\\nSKILLS\\nLanguages\\nC, JAVA,  Python, Javascript\\nDeveloper Tools\\nGoogle Colab, Jupyter Notebook, PyCharm, IntelliJ, VS Code\\nVersion Control\\nGit, GitHub\\nTechnologies/Frameworks\\n PyTorch, Tensorflow, Keras, React, Flask , Next, FramerMotion\\nProject Management\\nAgile\\nMathematics\\nCalculus, Linear Algebra, Probability and Statistics, Principal Component Analysis(PCA) ,Optimization\\nLANGUAGES\\nEnglish\\nSinhalaTamil\\nORGANIZATIONS\\nIEEE\\nmember of Computer Society\\nMathematics society of UOM\\nmember\\nSLAAI\\nmember\\nREFERENCES\\nDR.(MS) SILVA A.T.P., Senior Lecturer Gr-1, UOM\\nthusharip@uom.lk\\nMohamed Razan, Software Engineer, Pagero\\nmhdrazan7@gmail.com')]"
      ]
     },
     "execution_count": 14,
     "metadata": {},
     "output_type": "execute_result"
    }
   ],
   "source": [
    "pages"
   ]
  },
  {
   "cell_type": "markdown",
   "id": "67cc750b-3297-4958-83eb-8de1657601df",
   "metadata": {},
   "source": [
    "# **ConversationBufferMemory**"
   ]
  },
  {
   "cell_type": "code",
   "execution_count": 31,
   "id": "f526b7c8-ca99-498e-95d9-9d32f9a2bf40",
   "metadata": {},
   "outputs": [],
   "source": [
    "from langchain_openai import OpenAI"
   ]
  },
  {
   "cell_type": "code",
   "execution_count": 23,
   "id": "170469c2-aa15-48fd-a052-3db2e9e2bd4b",
   "metadata": {},
   "outputs": [],
   "source": [
    "from langchain.chains import LLMChain"
   ]
  },
  {
   "cell_type": "code",
   "execution_count": 21,
   "id": "5eb1e619-e667-47b0-8fd3-4d99e0a7fef1",
   "metadata": {},
   "outputs": [],
   "source": [
    "from langchain.prompts import PromptTemplate"
   ]
  },
  {
   "cell_type": "code",
   "execution_count": 18,
   "id": "beb00bdf-8f12-4f97-81ef-9c7c48ea5cd4",
   "metadata": {},
   "outputs": [],
   "source": [
    "from langchain.memory import ConversationBufferMemory"
   ]
  },
  {
   "cell_type": "code",
   "execution_count": 29,
   "id": "4bf976d1-a310-448d-adea-39d0318b6865",
   "metadata": {},
   "outputs": [],
   "source": [
    "OPENAI_KEY = \"sk-WAdKyY1OzdOGHzp7bw0AYBnlXuDVXoguNIc_AAYffpT3BlbkFJKcqq3IGBql5F8BDH88SC7L6cXVHc8pc3vsdvjnvAUy7OZLu8A\""
   ]
  },
  {
   "cell_type": "code",
   "execution_count": 32,
   "id": "2933f095-9e60-4584-afa1-33445e003ad4",
   "metadata": {},
   "outputs": [],
   "source": [
    "client=OpenAI(openai_api_key=OPENAI_KEY)"
   ]
  },
  {
   "cell_type": "code",
   "execution_count": 19,
   "id": "2a06cc9b-652d-4af9-9a88-9114f5b7e564",
   "metadata": {},
   "outputs": [],
   "source": [
    "memory=ConversationBufferMemory()"
   ]
  },
  {
   "cell_type": "code",
   "execution_count": 34,
   "id": "6acd08f2-6fff-415c-a02b-6bd73be60702",
   "metadata": {},
   "outputs": [],
   "source": [
    "prompt_template_name = PromptTemplate(\n",
    "    input_variables =['product'],\n",
    "    template = \"What is a good name for a company that makes {product}\"\n",
    ")"
   ]
  },
  {
   "cell_type": "code",
   "execution_count": 35,
   "id": "b75aef83-4f7d-4fb4-bd9c-a8b8d5baa186",
   "metadata": {},
   "outputs": [],
   "source": [
    "chain=LLMChain(llm=client,prompt=prompt_template_name,memory=memory)"
   ]
  },
  {
   "cell_type": "code",
   "execution_count": 37,
   "id": "58a84d7e-ed0f-4da1-9c6e-535de5931923",
   "metadata": {},
   "outputs": [
    {
     "data": {
      "text/plain": [
       "{'product': 'wines',\n",
       " 'history': \"Human: wines\\nAI: \\n\\n1. Vineyard Vista\\n2. Grapes & Vines Co.\\n3. Harvest Hill Wines\\n4. Cellar Select\\n5. Vintage Vines\\n6. Winemaker's Reserve\\n7. Noble Nectar Wines\\n8. Barrel & Vat Co.\\n9. Grapevine Grove\\n10. WineCrafters Inc.\",\n",
       " 'text': \"\\n\\n1. Vine & Vintages\\n2. Grapevine Cellars\\n3. The Winemaker's Guild\\n4. Harvest Hill Wines\\n5. Vintage Vines Co.\\n6. Cellar Door Wines\\n7. Noble Nectar Winery\\n8. Barrel & Vines Co.\\n9. Heritage Harvest Wines\\n10. The Tasting Room Co.\"}"
      ]
     },
     "execution_count": 37,
     "metadata": {},
     "output_type": "execute_result"
    }
   ],
   "source": [
    "chain.invoke(\"wines\")"
   ]
  },
  {
   "cell_type": "code",
   "execution_count": 42,
   "id": "5714569e-716e-445e-87b9-999cc49c080f",
   "metadata": {},
   "outputs": [
    {
     "name": "stdout",
     "output_type": "stream",
     "text": [
      "1. LensCrafters\n",
      "2. PixelPerfect\n",
      "3. ShutterWorks\n",
      "4. CameraCo\n",
      "5. FocusFusion\n",
      "6. SnapShots Inc.\n",
      "7. CaptureWorks\n",
      "8. FrameIt\n",
      "9. FilmWorks\n",
      "10. ApertureTech\n",
      "11. ImageMakers\n",
      "12. VisualVantage\n",
      "13. ClickCrafters\n",
      "14. ZoomInnovations\n",
      "15. OpticVision\n",
      "16. SnapSavvy\n",
      "17. ProCapture\n",
      "18. MediaMasters\n",
      "19. LightLens\n",
      "20. ShotSmart Solutions\n"
     ]
    }
   ],
   "source": [
    "print(chain.run(\"camera\").strip())"
   ]
  },
  {
   "cell_type": "code",
   "execution_count": 45,
   "id": "340e751a-d793-4c5d-ac3e-16c4aee931d8",
   "metadata": {},
   "outputs": [
    {
     "data": {
      "text/plain": [
       "{'product': 'Drones',\n",
       " 'history': 'Human: wines\\nAI: \\n\\n1. Vineyard Vista\\n2. Grapes & Vines Co.\\n3. Harvest Hill Wines\\n4. Cellar Select\\n5. Vintage Vines\\n6. Winemaker\\'s Reserve\\n7. Noble Nectar Wines\\n8. Barrel & Vat Co.\\n9. Grapevine Grove\\n10. WineCrafters Inc.\\nHuman: wines\\nAI: \\n\\n1. Vine & Vintages\\n2. Grapevine Cellars\\n3. The Winemaker\\'s Guild\\n4. Harvest Hill Wines\\n5. Vintage Vines Co.\\n6. Cellar Door Wines\\n7. Noble Nectar Winery\\n8. Barrel & Vines Co.\\n9. Heritage Harvest Wines\\n10. The Tasting Room Co.\\nHuman: camera\\nAI: \\n\\n1. SnapTech\\n2. LensCrafters\\n3. FocusWorks\\n4. CaptureCo\\n5. ShutterWorks\\n6. FlashForward\\n7. ApertureTech\\n8. PicturePerfect\\n9. FrameMakers\\n10. ClickPro\\n11. OptiCapture\\n12. ImageMakers\\n13. SnapShots Inc.\\n14. CameraCrafters\\n15. VisionWorks\\n16. PixelPioneers\\n17. ShotSpot\\n18. ZoomIn Corp.\\n19. SnapMaster\\n20. CameraGenius\\nHuman: camera\\nAI: \\n\\n\"Capture Co.\" \\nHuman: camera\\nAI: \\n\\n\"Pixel Perfect Photography Co.\" \\nHuman: camera\\nAI: \\n\"CaptureCo\" or \"LensCrafters\"\\nHuman: camera\\nAI: \\n\\n1. LensCrafters\\n2. PixelPerfect\\n3. ShutterWorks\\n4. CameraCo\\n5. FocusFusion\\n6. SnapShots Inc.\\n7. CaptureWorks\\n8. FrameIt\\n9. FilmWorks\\n10. ApertureTech\\n11. ImageMakers\\n12. VisualVantage\\n13. ClickCrafters\\n14. ZoomInnovations\\n15. OpticVision\\n16. SnapSavvy\\n17. ProCapture\\n18. MediaMasters\\n19. LightLens\\n20. ShotSmart Solutions',\n",
       " 'text': '\\n\\nSkyTech Drones \\n'}"
      ]
     },
     "execution_count": 45,
     "metadata": {},
     "output_type": "execute_result"
    }
   ],
   "source": [
    "chain.invoke(\"Drones\")"
   ]
  },
  {
   "cell_type": "code",
   "execution_count": 46,
   "id": "640d34f1-f69b-4e79-8062-d48e26b43e54",
   "metadata": {},
   "outputs": [
    {
     "data": {
      "text/plain": [
       "ConversationBufferMemory(chat_memory=InMemoryChatMessageHistory(messages=[HumanMessage(content='wines'), AIMessage(content=\"\\n\\n1. Vineyard Vista\\n2. Grapes & Vines Co.\\n3. Harvest Hill Wines\\n4. Cellar Select\\n5. Vintage Vines\\n6. Winemaker's Reserve\\n7. Noble Nectar Wines\\n8. Barrel & Vat Co.\\n9. Grapevine Grove\\n10. WineCrafters Inc.\"), HumanMessage(content='wines'), AIMessage(content=\"\\n\\n1. Vine & Vintages\\n2. Grapevine Cellars\\n3. The Winemaker's Guild\\n4. Harvest Hill Wines\\n5. Vintage Vines Co.\\n6. Cellar Door Wines\\n7. Noble Nectar Winery\\n8. Barrel & Vines Co.\\n9. Heritage Harvest Wines\\n10. The Tasting Room Co.\"), HumanMessage(content='camera'), AIMessage(content='\\n\\n1. SnapTech\\n2. LensCrafters\\n3. FocusWorks\\n4. CaptureCo\\n5. ShutterWorks\\n6. FlashForward\\n7. ApertureTech\\n8. PicturePerfect\\n9. FrameMakers\\n10. ClickPro\\n11. OptiCapture\\n12. ImageMakers\\n13. SnapShots Inc.\\n14. CameraCrafters\\n15. VisionWorks\\n16. PixelPioneers\\n17. ShotSpot\\n18. ZoomIn Corp.\\n19. SnapMaster\\n20. CameraGenius'), HumanMessage(content='camera'), AIMessage(content='\\n\\n\"Capture Co.\" '), HumanMessage(content='camera'), AIMessage(content='\\n\\n\"Pixel Perfect Photography Co.\" '), HumanMessage(content='camera'), AIMessage(content='\\n\"CaptureCo\" or \"LensCrafters\"'), HumanMessage(content='camera'), AIMessage(content='\\n\\n1. LensCrafters\\n2. PixelPerfect\\n3. ShutterWorks\\n4. CameraCo\\n5. FocusFusion\\n6. SnapShots Inc.\\n7. CaptureWorks\\n8. FrameIt\\n9. FilmWorks\\n10. ApertureTech\\n11. ImageMakers\\n12. VisualVantage\\n13. ClickCrafters\\n14. ZoomInnovations\\n15. OpticVision\\n16. SnapSavvy\\n17. ProCapture\\n18. MediaMasters\\n19. LightLens\\n20. ShotSmart Solutions'), HumanMessage(content='Drones'), AIMessage(content='\\n\\nSkyTech Drones \\n')]))"
      ]
     },
     "execution_count": 46,
     "metadata": {},
     "output_type": "execute_result"
    }
   ],
   "source": [
    "chain.memory"
   ]
  },
  {
   "cell_type": "code",
   "execution_count": 48,
   "id": "f2bd6501-914f-4946-bd6f-42a9510bdc92",
   "metadata": {},
   "outputs": [
    {
     "name": "stdout",
     "output_type": "stream",
     "text": [
      "Human: wines\n",
      "AI: \n",
      "\n",
      "1. Vineyard Vista\n",
      "2. Grapes & Vines Co.\n",
      "3. Harvest Hill Wines\n",
      "4. Cellar Select\n",
      "5. Vintage Vines\n",
      "6. Winemaker's Reserve\n",
      "7. Noble Nectar Wines\n",
      "8. Barrel & Vat Co.\n",
      "9. Grapevine Grove\n",
      "10. WineCrafters Inc.\n",
      "Human: wines\n",
      "AI: \n",
      "\n",
      "1. Vine & Vintages\n",
      "2. Grapevine Cellars\n",
      "3. The Winemaker's Guild\n",
      "4. Harvest Hill Wines\n",
      "5. Vintage Vines Co.\n",
      "6. Cellar Door Wines\n",
      "7. Noble Nectar Winery\n",
      "8. Barrel & Vines Co.\n",
      "9. Heritage Harvest Wines\n",
      "10. The Tasting Room Co.\n",
      "Human: camera\n",
      "AI: \n",
      "\n",
      "1. SnapTech\n",
      "2. LensCrafters\n",
      "3. FocusWorks\n",
      "4. CaptureCo\n",
      "5. ShutterWorks\n",
      "6. FlashForward\n",
      "7. ApertureTech\n",
      "8. PicturePerfect\n",
      "9. FrameMakers\n",
      "10. ClickPro\n",
      "11. OptiCapture\n",
      "12. ImageMakers\n",
      "13. SnapShots Inc.\n",
      "14. CameraCrafters\n",
      "15. VisionWorks\n",
      "16. PixelPioneers\n",
      "17. ShotSpot\n",
      "18. ZoomIn Corp.\n",
      "19. SnapMaster\n",
      "20. CameraGenius\n",
      "Human: camera\n",
      "AI: \n",
      "\n",
      "\"Capture Co.\" \n",
      "Human: camera\n",
      "AI: \n",
      "\n",
      "\"Pixel Perfect Photography Co.\" \n",
      "Human: camera\n",
      "AI: \n",
      "\"CaptureCo\" or \"LensCrafters\"\n",
      "Human: camera\n",
      "AI: \n",
      "\n",
      "1. LensCrafters\n",
      "2. PixelPerfect\n",
      "3. ShutterWorks\n",
      "4. CameraCo\n",
      "5. FocusFusion\n",
      "6. SnapShots Inc.\n",
      "7. CaptureWorks\n",
      "8. FrameIt\n",
      "9. FilmWorks\n",
      "10. ApertureTech\n",
      "11. ImageMakers\n",
      "12. VisualVantage\n",
      "13. ClickCrafters\n",
      "14. ZoomInnovations\n",
      "15. OpticVision\n",
      "16. SnapSavvy\n",
      "17. ProCapture\n",
      "18. MediaMasters\n",
      "19. LightLens\n",
      "20. ShotSmart Solutions\n",
      "Human: Drones\n",
      "AI: \n",
      "\n",
      "SkyTech Drones \n",
      "\n"
     ]
    }
   ],
   "source": [
    "print(chain.memory.buffer)"
   ]
  },
  {
   "cell_type": "markdown",
   "id": "dd8bcd1f-5ff7-4785-be09-2e645e668be6",
   "metadata": {},
   "source": [
    "# **ConversationChain**"
   ]
  },
  {
   "cell_type": "code",
   "execution_count": 49,
   "id": "1a0e21b1-ba2d-4791-8cd9-abbbeb8ea0e6",
   "metadata": {},
   "outputs": [],
   "source": [
    "from langchain.chains import ConversationChain"
   ]
  },
  {
   "cell_type": "code",
   "execution_count": 54,
   "id": "2c511317-5334-49e7-9858-754ee768a6bf",
   "metadata": {},
   "outputs": [
    {
     "name": "stdout",
     "output_type": "stream",
     "text": [
      "The following is a friendly conversation between a human and an AI. The AI is talkative and provides lots of specific details from its context. If the AI does not know the answer to a question, it truthfully says it does not know.\n",
      "\n",
      "Current conversation:\n",
      "{history}\n",
      "Human: {input}\n",
      "AI:\n"
     ]
    }
   ],
   "source": [
    "convo = ConversationChain(llm=OpenAI(openai_api_key=OPENAI_KEY,temperature=0.7))\n",
    "print(convo.prompt.template)"
   ]
  },
  {
   "cell_type": "code",
   "execution_count": 55,
   "id": "05e09df9-88e0-47dc-b0d3-36704c437d02",
   "metadata": {},
   "outputs": [
    {
     "data": {
      "text/plain": [
       "' The first Cricket World Cup was won by the West Indies in 1975. They defeated Australia in the final.'"
      ]
     },
     "execution_count": 55,
     "metadata": {},
     "output_type": "execute_result"
    }
   ],
   "source": [
    "convo.run(\"who won the 1st Cricket World cup\")"
   ]
  },
  {
   "cell_type": "code",
   "execution_count": 56,
   "id": "0b1e2c81-da14-4b9a-84a1-fb57fa7dc9fb",
   "metadata": {},
   "outputs": [
    {
     "data": {
      "text/plain": [
       "' 5+5 is equal to 10.'"
      ]
     },
     "execution_count": 56,
     "metadata": {},
     "output_type": "execute_result"
    }
   ],
   "source": [
    "convo.run(\"how much 5+5\")"
   ]
  },
  {
   "cell_type": "code",
   "execution_count": 57,
   "id": "0b359dd2-948e-49bf-8e1f-1e27d5c958ed",
   "metadata": {},
   "outputs": [
    {
     "data": {
      "text/plain": [
       "' 5*(5+1) is equal to 30.'"
      ]
     },
     "execution_count": 57,
     "metadata": {},
     "output_type": "execute_result"
    }
   ],
   "source": [
    "convo.run(\"how much will  5*(5+1)\")"
   ]
  },
  {
   "cell_type": "code",
   "execution_count": 58,
   "id": "9e9ba060-bd11-404e-8f3b-0bec8b20ba31",
   "metadata": {},
   "outputs": [
    {
     "data": {
      "text/plain": [
       "' The captain of the West Indies team who won the first Cricket World Cup was Clive Lloyd. He was known for his strong leadership and strategic skills on the field.'"
      ]
     },
     "execution_count": 58,
     "metadata": {},
     "output_type": "execute_result"
    }
   ],
   "source": [
    "convo.run(\"who was the captain of winning team,\")"
   ]
  },
  {
   "cell_type": "code",
   "execution_count": null,
   "id": "7b47cc5f-a7c8-41f0-bae4-1a9804bf96ac",
   "metadata": {},
   "outputs": [],
   "source": []
  },
  {
   "cell_type": "markdown",
   "id": "8b35bb4f-59fe-4da7-97ae-5763acc1d3d9",
   "metadata": {},
   "source": [
    "# **ConversationBufferWindowMemory**"
   ]
  },
  {
   "cell_type": "code",
   "execution_count": 59,
   "id": "e7289027-7aac-43ff-affb-f32c1a9a16b1",
   "metadata": {},
   "outputs": [],
   "source": [
    "from langchain.memory import ConversationBufferWindowMemory"
   ]
  },
  {
   "cell_type": "code",
   "execution_count": 73,
   "id": "cd00e68a-8a9b-4618-94e1-ffd95cad4f98",
   "metadata": {},
   "outputs": [],
   "source": [
    "memory = ConversationBufferWindowMemory(k=1)\n",
    "\n",
    "convo = ConversationChain(\n",
    "    llm=OpenAI(openai_api_key=OPENAI_KEY,temperature=0.7),\n",
    "    memory=memory\n",
    ")"
   ]
  },
  {
   "cell_type": "code",
   "execution_count": 74,
   "id": "44e9a021-a21d-4bb8-a2c8-65a57820bf2b",
   "metadata": {},
   "outputs": [
    {
     "data": {
      "text/plain": [
       "' The first Cricket World Cup was held in 1975 and was won by the West Indies. The West Indies defeated Australia in the final match by 17 runs. It was a significant victory for the West Indies, as it marked the first time they had won the World Cup.'"
      ]
     },
     "execution_count": 74,
     "metadata": {},
     "output_type": "execute_result"
    }
   ],
   "source": [
    "convo.run(\"who won the 1st Cricket World cup\")"
   ]
  },
  {
   "cell_type": "code",
   "execution_count": 75,
   "id": "9484f116-f906-48ce-984d-50481566fab2",
   "metadata": {},
   "outputs": [
    {
     "data": {
      "text/plain": [
       "' 5+5 = 10. Is there anything else you would like to know?'"
      ]
     },
     "execution_count": 75,
     "metadata": {},
     "output_type": "execute_result"
    }
   ],
   "source": [
    "convo.run(\"how much 5+5\")"
   ]
  },
  {
   "cell_type": "code",
   "execution_count": 76,
   "id": "cb2d7185-3e90-4f0c-925f-fbe52e5270db",
   "metadata": {},
   "outputs": [
    {
     "data": {
      "text/plain": [
       "\" I'm sorry, I do not have enough context or information to accurately answer that question. Would you like to know something else?\""
      ]
     },
     "execution_count": 76,
     "metadata": {},
     "output_type": "execute_result"
    }
   ],
   "source": [
    "convo.run(\"who was the captain of winning team,\")"
   ]
  },
  {
   "cell_type": "code",
   "execution_count": 77,
   "id": "3e954cb9-32fa-4286-88b3-4b445a6b5396",
   "metadata": {},
   "outputs": [
    {
     "name": "stdout",
     "output_type": "stream",
     "text": [
      "Human: who was the captain of winning team,\n",
      "AI:  I'm sorry, I do not have enough context or information to accurately answer that question. Would you like to know something else?\n"
     ]
    }
   ],
   "source": [
    "print(convo.memory.buffer)"
   ]
  },
  {
   "cell_type": "code",
   "execution_count": null,
   "id": "01a24dcd-2545-40fd-a992-e027d2b52dee",
   "metadata": {},
   "outputs": [],
   "source": []
  }
 ],
 "metadata": {
  "kernelspec": {
   "display_name": "Python 3 (ipykernel)",
   "language": "python",
   "name": "python3"
  },
  "language_info": {
   "codemirror_mode": {
    "name": "ipython",
    "version": 3
   },
   "file_extension": ".py",
   "mimetype": "text/x-python",
   "name": "python",
   "nbconvert_exporter": "python",
   "pygments_lexer": "ipython3",
   "version": "3.8.19"
  }
 },
 "nbformat": 4,
 "nbformat_minor": 5
}
